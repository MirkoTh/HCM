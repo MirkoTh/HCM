{
 "cells": [
  {
   "cell_type": "markdown",
   "metadata": {},
   "source": [
    "impose a graph with a chunk representation"
   ]
  },
  {
   "cell_type": "code",
   "execution_count": 5,
   "metadata": {},
   "outputs": [],
   "source": [
    "# first, test generative model on one dimensional graphs\n",
    "import sys\n",
    "sys.path.append('../HCM')\n",
    "from Chunking_Graph import *\n",
    "import seaborn as sns"
   ]
  },
  {
   "cell_type": "code",
   "execution_count": 6,
   "metadata": {},
   "outputs": [
    {
     "data": {
      "text/plain": [
       "<Figure size 720x720 with 0 Axes>"
      ]
     },
     "metadata": {},
     "output_type": "display_data"
    }
   ],
   "source": [
    "# demonstrate the graph structure as the number of observation increases\n",
    "import operator\n",
    "import networkx as nx\n",
    "import matplotlib.pyplot as plt\n",
    "import numpy as np\n",
    "from collections import defaultdict\n",
    "\n",
    "plt.figure(figsize = (10,10))\n",
    "\n",
    "def plot_chunk_graph(vertex_list, edges, location, ax=None):\n",
    "    chunks = []\n",
    "    for ck in vertex_list:\n",
    "        chunks.append(list(np.ravel(tuple_to_arr(ck)).astype(int)))\n",
    "    print('chunks ', chunks)\n",
    "    print('edges ', edges)\n",
    "    print('location ', location)\n",
    "    #location[0] = [1,8]\n",
    "    element_palette = {0:'#FFFFFF', 1:'#FFCAB1', 2:'#C1D7AE', 3:'#E885ec',4:'#85bdec',5:'#F7F726'}  # colorblind palette\n",
    "    chunk_element_offset = {1: [0], 2: [-0.1, 0.1], 3: [-0.2, 0, 0.2], 4: [-0.3, -0.1, 0.1, 0.3],5:[-0.4, -0.2,0, 0.2, 0.4],6:[-0.6,-0.4, -0.2, 0, 0.2,0.4],7:[-0.6,-0.4, -0.2,0, 0.2, 0.4,0.6],8:[-0.8,-0.6,-0.4, -0.2,0,0.2, 0.4,0.6]}\n",
    "\n",
    "\n",
    "    chunk_element_distance = 1.8\n",
    "    if ax is None:\n",
    "        f, ax = plt.subplots()\n",
    "\n",
    "    chunks_by_length = defaultdict(list)\n",
    "    for chunk in chunks:\n",
    "        chunks_by_length[len(chunk)].append(chunk)\n",
    "    max_width = max(len(v) for v in chunks_by_length.values())\n",
    "\n",
    "    node_pos = {}\n",
    "    for i in range(0,len(chunks)):\n",
    "        chunk = chunks[i]\n",
    "        chunk_id = chunks.index(chunk)\n",
    "        chunk_len = len(chunks[chunk_id])\n",
    "        n_on_level = len(chunks_by_length[chunk_len])\n",
    "        id_on_level = chunks_by_length[chunk_len].index(chunk)\n",
    "        xpos = location[i][0]\n",
    "        ypos = location[i][1]\n",
    "        node_pos[chunk_id] = (xpos, ypos)\n",
    "\n",
    "    G = nx.MultiDiGraph()\n",
    "    for node in range(len(chunks)):\n",
    "        G.add_node(node, pos=node_pos[node])\n",
    "\n",
    "    for edge in edges:\n",
    "        G.add_edge(edge[0], edge[1], weight=0)\n",
    "\n",
    "    edge_color = ['k' if weight else 'grey' for weight in nx.get_edge_attributes(G,'weight').values()]\n",
    "\n",
    "    nx.draw_networkx(G, node_pos,\n",
    "                        node_color='grey',\n",
    "                        node_size=0.0001,\n",
    "                        #connectionstyle='arc3, rad = 0.1',\n",
    "                        arrowsize=15,\n",
    "                        width=3,\n",
    "                        with_labels=False,\n",
    "                        edge_color=edge_color,\n",
    "                        alpha = 0.3,\n",
    "                        ax=ax)\n",
    "\n",
    "    for chunk_id, chunk in enumerate(chunks):\n",
    "\n",
    "        for element_id, element in enumerate(chunk):\n",
    "            ax.scatter([node_pos[chunk_id][0] + (chunk_element_offset[len(chunk)][element_id] * chunk_element_distance)],\n",
    "                        [node_pos[chunk_id][1]],\n",
    "                        c=element_palette[element],\n",
    "                        edgecolors = 'lightgrey',\n",
    "                        linewidth=3,\n",
    "                        marker='s',\n",
    "                        s=600\n",
    "                        #zorder=5\n",
    "                        )\n",
    "    plt.axis(\"off\")\n",
    "    plt.show()\n",
    "\n",
    "    return ax\n"
   ]
  },
  {
   "cell_type": "code",
   "execution_count": 7,
   "metadata": {},
   "outputs": [],
   "source": [
    "def impose_representation():\n",
    "    cg = Chunking_Graph()\n",
    "    E = np.zeros([1,1,1])\n",
    "    A = np.array([[[1]]])\n",
    "    B = np.array([[[2]]])\n",
    "    C = np.array([[[3]]])\n",
    "    D = np.array([[[4]]])\n",
    "    AB = np.array([[[1]], [[2]]]) #\n",
    "    CA = np.array([[[3]], [[1]]]) #\n",
    "    ABCA = np.array([[[1]], [[2]], [[3]], [[1]]]) #\n",
    "    CAD = np.array([[[3]], [[1]], [[4]]]) #\n",
    "    ABCACAD = np.array([[[1]], [[2]], [[3]], [[1]],[[3]], [[1]], [[4]]]) #\n",
    "\n",
    "    stim_set = [arr_to_tuple(E), arr_to_tuple(A), arr_to_tuple(B),arr_to_tuple(C), arr_to_tuple(D), arr_to_tuple(AB),\n",
    "                arr_to_tuple(CA),arr_to_tuple(ABCA), arr_to_tuple(CAD)]\n",
    "\n",
    "    '''Produce a generic generative model'''\n",
    "    probs =[1/len(stim_set)]*len(stim_set)\n",
    "    generative_marginals = {}\n",
    "    # generative_marginals[arr_to_tuple(E)] = probs[0]\n",
    "    for i in range(0, len(stim_set)):\n",
    "        generative_marginals[stim_set[i]] = probs[i]\n",
    "    cg.M = generative_marginals\n",
    "\n",
    "    cg.vertex_list = stim_set\n",
    "    cg.edge_list = [(1, 5), (2, 5), (1, 6), (3, 6), (5, 7), (6, 7), (6, 8), (4, 8)]\n",
    "    cg.vertex_location = [[1, 0], [2, 0], [3, 0], [4, 0], [5, 0], [3.0, 1], [4.0, 1], [3.5, 3], [4.5, 2]]\n",
    "    return cg"
   ]
  },
  {
   "cell_type": "markdown",
   "metadata": {},
   "source": [
    "representation by the graph"
   ]
  },
  {
   "cell_type": "code",
   "execution_count": 8,
   "metadata": {},
   "outputs": [
    {
     "name": "stdout",
     "output_type": "stream",
     "text": [
      "chunks  [[0], [1], [2], [3], [4], [1, 2], [3, 1], [1, 2, 3, 1], [3, 1, 4]]\n",
      "edges  [(1, 5), (2, 5), (1, 6), (3, 6), (5, 7), (6, 7), (6, 8), (4, 8)]\n",
      "location  [[1, 0], [2, 0], [3, 0], [4, 0], [5, 0], [3.0, 1], [4.0, 1], [3.5, 3], [4.5, 2]]\n"
     ]
    },
    {
     "data": {
      "image/png": "[encoded data removed]",
      "text/plain": [
       "<Figure size 432x288 with 1 Axes>"
      ]
     },
     "metadata": {},
     "output_type": "display_data"
    },
    {
     "data": {
      "text/plain": [
       "<AxesSubplot:>"
      ]
     },
     "execution_count": 8,
     "metadata": {},
     "output_type": "execute_result"
    }
   ],
   "source": [
    "cg = impose_representation()\n",
    "plot_chunk_graph(cg.vertex_list,cg.edge_list, cg.vertex_location)"
   ]
  },
  {
   "cell_type": "code",
   "execution_count": 9,
   "metadata": {},
   "outputs": [],
   "source": [
    "def generate_facilitative_env(): \n",
    "    fac_env = Chunking_Graph()\n",
    "    E = np.zeros([1,1,1])\n",
    "    A = np.array([[[1]]])\n",
    "    B = np.array([[[2]]])\n",
    "    C = np.array([[[3]]])\n",
    "    D = np.array([[[4]]])\n",
    "    AB = np.array([[[1]], [[2]]]) #\n",
    "    CA = np.array([[[3]], [[1]]]) #\n",
    "    ABCA = np.array([[[1]], [[2]], [[3]], [[1]]]) #\n",
    "    CAD = np.array([[[3]], [[1]], [[4]]]) #\n",
    "    ABCACAD = np.array([[[1]], [[2]], [[3]], [[1]],[[3]], [[1]], [[4]]]) #\n",
    "\n",
    "    stim_set = [arr_to_tuple(E), arr_to_tuple(A), arr_to_tuple(B),arr_to_tuple(C), arr_to_tuple(D), arr_to_tuple(AB),\n",
    "                arr_to_tuple(CA),arr_to_tuple(ABCA), arr_to_tuple(CAD), arr_to_tuple(ABCACAD)]\n",
    "\n",
    "    '''Produce a generic generative model'''\n",
    "    alpha = tuple([1 for i in range(0, len(stim_set))])  # coefficient for the flat dirichlet distribution\n",
    "    probs = sorted(list(np.random.dirichlet(alpha, 1)[0]), reverse=True)\n",
    "#     probs =[1/len(stim_set)]*len(stim_set)\n",
    "    generative_marginals = {}\n",
    "    # generative_marginals[arr_to_tuple(E)] = probs[0]\n",
    "    for i in range(0, len(stim_set)):\n",
    "        generative_marginals[stim_set[i]] = probs[i]\n",
    "    fac_env.M = generative_marginals\n",
    "\n",
    "    fac_env.vertex_list = stim_set\n",
    "    fac_env.edge_list = [(1, 5), (2, 5), (1, 6), (3, 6), (5, 7), (6, 7), (6, 8), (4, 8), (8, 9), (7, 9)]\n",
    "    fac_env.vertex_location = [[1, 0], [2, 0], [3, 0], [4, 0], [5, 0], [3.0, 1], [4.0, 1], [3.5, 3], [4.5, 2], [3.0, 4]]\n",
    "    return fac_env"
   ]
  },
  {
   "cell_type": "code",
   "execution_count": 10,
   "metadata": {},
   "outputs": [
    {
     "name": "stdout",
     "output_type": "stream",
     "text": [
      "chunks  [[0], [1], [2], [3], [4], [1, 2], [3, 1], [1, 2, 3, 1], [3, 1, 4], [1, 2, 3, 1, 3, 1, 4]]\n",
      "edges  [(1, 5), (2, 5), (1, 6), (3, 6), (5, 7), (6, 7), (6, 8), (4, 8), (8, 9), (7, 9)]\n",
      "location  [[1, 0], [2, 0], [3, 0], [4, 0], [5, 0], [3.0, 1], [4.0, 1], [3.5, 3], [4.5, 2], [3.0, 4]]\n"
     ]
    },
    {
     "data": {
      "image/png": "[encoded data removed]",
      "text/plain": [
       "<Figure size 432x288 with 1 Axes>"
      ]
     },
     "metadata": {},
     "output_type": "display_data"
    },
    {
     "data": {
      "text/plain": [
       "<AxesSubplot:>"
      ]
     },
     "execution_count": 10,
     "metadata": {},
     "output_type": "execute_result"
    }
   ],
   "source": [
    "fac_env = generate_facilitative_env()\n",
    "plot_chunk_graph(fac_env.vertex_list,fac_env.edge_list, fac_env.vertex_location)"
   ]
  },
  {
   "cell_type": "markdown",
   "metadata": {},
   "source": [
    "# Interfering Environment"
   ]
  },
  {
   "cell_type": "code",
   "execution_count": 11,
   "metadata": {},
   "outputs": [],
   "source": [
    "def generate_interfering_env(): \n",
    "    int_env = Chunking_Graph()# interfering environment\n",
    "\n",
    "    E = np.zeros([1,1,1])# 0\n",
    "    A = np.array([[[1]]])#1\n",
    "    B = np.array([[[2]]])#2\n",
    "    C = np.array([[[3]]])#3\n",
    "    D = np.array([[[4]]])#4 \n",
    "    F = np.array([[[5]]])#5\n",
    "\n",
    "    FD = np.array([[[5]], [[4]]]) #6\n",
    "    FC = np.array([[[5]], [[3]]]) #7\n",
    "    BD = np.array([[[2]], [[4]]]) #8\n",
    "    DB = np.array([[[4]], [[2]]]) #9\n",
    "    \n",
    "    BDFD = np.array([[[2]], [[4]],[[5]], [[4]]]) #10\n",
    "    BDFDDB = np.array([[[2]], [[4]],[[5]], [[4]], [[4]], [[2]]]) #11\n",
    "\n",
    "\n",
    "    stim_set = [arr_to_tuple(E), arr_to_tuple(A), arr_to_tuple(B),arr_to_tuple(C), arr_to_tuple(D), arr_to_tuple(F),\n",
    "                arr_to_tuple(FD),arr_to_tuple(FC), arr_to_tuple(BD), arr_to_tuple(DB), arr_to_tuple(BDFD),arr_to_tuple(BDFDDB)]\n",
    "\n",
    "    '''Produce a generic generative model'''\n",
    "#     probs =[1/len(stim_set)]*len(stim_set)\n",
    "    alpha = tuple([1 for i in range(0, len(stim_set))])  # coefficient for the flat dirichlet distribution\n",
    "    probs = sorted(list(np.random.dirichlet(alpha, 1)[0]), reverse=True)\n",
    "    generative_marginals = {}\n",
    "    # generative_marginals[arr_to_tuple(E)] = probs[0]\n",
    "    for i in range(0, len(stim_set)):\n",
    "        generative_marginals[stim_set[i]] = probs[i]\n",
    "    int_env.M = generative_marginals\n",
    "\n",
    "    int_env.vertex_list = stim_set\n",
    "    int_env.edge_list = [(4, 6), (5, 6), (5, 7), (3, 7), (2, 8), (4, 8), (4, 9), (2, 9), (8,10),(6,10),(10,11),(9,11)]\n",
    "    int_env.vertex_location = [[1, 0], [2, 0], [3, 0], [4, 0], [5, 0], [6, 0], [5.0, 1], [4.0, 1], [3.0, 1], [2.0, 1], [4.5, 2], [5.5,3]]\n",
    "    return int_env"
   ]
  },
  {
   "cell_type": "code",
   "execution_count": 12,
   "metadata": {},
   "outputs": [
    {
     "name": "stdout",
     "output_type": "stream",
     "text": [
      "chunks  [[0], [1], [2], [3], [4], [5], [5, 4], [5, 3], [2, 4], [4, 2], [2, 4, 5, 4], [2, 4, 5, 4, 4, 2]]\n",
      "edges  [(4, 6), (5, 6), (5, 7), (3, 7), (2, 8), (4, 8), (4, 9), (2, 9), (8, 10), (6, 10), (10, 11), (9, 11)]\n",
      "location  [[1, 0], [2, 0], [3, 0], [4, 0], [5, 0], [6, 0], [5.0, 1], [4.0, 1], [3.0, 1], [2.0, 1], [4.5, 2], [5.5, 3]]\n"
     ]
    },
    {
     "data": {
      "image/png": "[encoded data removed]",
      "text/plain": [
       "<Figure size 432x288 with 1 Axes>"
      ]
     },
     "metadata": {},
     "output_type": "display_data"
    },
    {
     "data": {
      "text/plain": [
       "<AxesSubplot:>"
      ]
     },
     "execution_count": 12,
     "metadata": {},
     "output_type": "execute_result"
    }
   ],
   "source": [
    "int_env = generate_interfering_env()\n",
    "plot_chunk_graph(int_env.vertex_list,int_env.edge_list, int_env.vertex_location)"
   ]
  },
  {
   "cell_type": "code",
   "execution_count": 13,
   "metadata": {},
   "outputs": [
    {
     "name": "stdout",
     "output_type": "stream",
     "text": [
      "19\n"
     ]
    }
   ],
   "source": [
    "Ns = list(np.arange(50, 1000, 50))\n",
    "print(len(Ns))"
   ]
  },
  {
   "cell_type": "code",
   "execution_count": 31,
   "metadata": {},
   "outputs": [],
   "source": [
    "from Generative_Model import *\n",
    "import pandas as pd\n",
    "def tuple_to_arr(tup):\n",
    "    return np.array(tup)\n",
    "\n",
    "def transferinterferenceexperiment1():\n",
    "    def transfer_train_measure_KL(cg_trained, cg_test, training_sequence):\n",
    "        cg_trained = learn_stc_classes(training_sequence, cg_trained)# oder learn stc classes \n",
    "        #print(cg_trained.M)\n",
    "        imagined_seq_trained = cg_trained.imagination(1000, sequential=True, spatial=False, spatial_temporal=False)\n",
    "        kl = evaluate_KL_compared_to_ground_truth(imagined_seq_trained, cg_test.M, Chunking_Graph(DT=0, theta=1))\n",
    "        return kl\n",
    "    \n",
    "    cg_trained = impose_representation()\n",
    "    int_env = generate_interfering_env()\n",
    "    fac_env = generate_facilitative_env()\n",
    "    df = {}\n",
    "    df['type'] = []\n",
    "    df['kl'] = []\n",
    "    df['N'] = []\n",
    "    df['env'] = []\n",
    "    Ns = list(np.arange(50, 1000, 50))\n",
    "    n_sample = 20\n",
    "    for s in range(0,n_sample):\n",
    "        for n in Ns:\n",
    "            # train on facilitative environment\n",
    "            fccg_trained = Chunking_Graph(DT=0.01, theta=0.996)\n",
    "            fccg_trained.M = cg_trained.M.copy()\n",
    "            fccg_trained.vertex_list = cg_trained.vertex_list.copy()\n",
    "            fccg_trained.edge_list = cg_trained.edge_list.copy()\n",
    "            fccg_trained.vertex_location = cg_trained.vertex_location.copy()\n",
    "            fccg_trained.zero = arr_to_tuple(np.zeros([1,1,1]))\n",
    "            faci_seq = generate_hierarchical_sequence(fac_env.M, s_length=n)\n",
    "\n",
    "            naive = Chunking_Graph(DT=0.01, theta=0.996)\n",
    "            klfaci = transfer_train_measure_KL(fccg_trained,fac_env,faci_seq)\n",
    "            klnaivefaci = transfer_train_measure_KL(naive,fac_env,faci_seq)\n",
    "            \n",
    "            #print('fccg_M ', fccg_trained.M)\n",
    "            #print('cg_trained ', cg_trained.M)\n",
    "\n",
    "            # train on interfering environment \n",
    "            iccg_trained = Chunking_Graph(DT=0.01, theta=0.996)\n",
    "            iccg_trained.M = cg_trained.M.copy()\n",
    "            iccg_trained.vertex_list = cg_trained.vertex_list.copy()\n",
    "            iccg_trained.edge_list = cg_trained.edge_list.copy()\n",
    "            iccg_trained.vertex_location = cg_trained.vertex_location.copy()\n",
    "            iccg_trained.zero = arr_to_tuple(np.zeros([1,1,1]))\n",
    "\n",
    "            inte_seq = generate_hierarchical_sequence(int_env.M, s_length=n)\n",
    "\n",
    "            naive = Chunking_Graph(DT=0.01, theta=0.996)\n",
    "            klinte = transfer_train_measure_KL(iccg_trained,int_env,inte_seq)\n",
    "            klnaiveinte = transfer_train_measure_KL(naive,int_env,inte_seq)\n",
    "\n",
    "            #print('klfaci,', klfaci,' klnaivefaci ', klnaivefaci, ' klinte ', klinte, ' klnaiveinte ', klnaiveinte)\n",
    "            # record data \n",
    "            df['env'] = df['env'] + ['transfer','transfer','interfere','interfere']\n",
    "            df['N'] = df['N'] + [n,n,n,n]\n",
    "            df['kl'] = df['kl'] + [klfaci, klnaivefaci,klinte, klnaiveinte]\n",
    "            df['type'] = df['type'] + ['trained','naive','trained','naive']\n",
    "\n",
    "    dff = pd.DataFrame.from_dict(df)\n",
    "    dff.to_csv('TransferExperiment')\n",
    "    return \n"
   ]
  },
  {
   "cell_type": "code",
   "execution_count": null,
   "metadata": {},
   "outputs": [],
   "source": [
    "transferinterferenceexperiment1()"
   ]
  },
  {
   "cell_type": "code",
   "execution_count": 29,
   "metadata": {},
   "outputs": [
    {
     "data": {
      "text/plain": [
       "[Text(0.5, 0, 'Type')]"
      ]
     },
     "execution_count": 29,
     "metadata": {},
     "output_type": "execute_result"
    },
    {
     "data": {
      "image/png": "[encoded data removed]",
      "text/plain": [
       "<Figure size 432x288 with 1 Axes>"
      ]
     },
     "metadata": {},
     "output_type": "display_data"
    }
   ],
   "source": [
    "df = pd.read_csv('./TransferExperiment')\n",
    "\n",
    "\n",
    "#df = dff\n",
    "#sns.set_theme(style=\"ticks\")\n",
    "sns.set(font_scale = 2)\n",
    "#palette = sns.color_palette(\"rocket_r\")\n",
    "sns.set_style(\"whitegrid\", {'axes.grid' : False})\n",
    "\n",
    "#df[df['env'] == 'transfer']\n",
    "ax = sns.barplot(x=\"type\", y=\"kl\", data=df[(df['env'] == 'transfer')& (df['N']<500)],capsize=.1)\n",
    "ax.set(ylabel='KL divergence')#,xlabel='Type')\n",
    "ax.set(xlabel='Type')"
   ]
  },
  {
   "cell_type": "code",
   "execution_count": 30,
   "metadata": {},
   "outputs": [
    {
     "data": {
      "text/plain": [
       "[Text(0.5, 0, 'Type')]"
      ]
     },
     "execution_count": 30,
     "metadata": {},
     "output_type": "execute_result"
    },
    {
     "data": {
      "image/png": "[encoded data removed]",
      "text/plain": [
       "<Figure size 432x288 with 1 Axes>"
      ]
     },
     "metadata": {},
     "output_type": "display_data"
    }
   ],
   "source": [
    "df = pd.read_csv('./TransferExperiment')\n",
    "\n",
    "#sns.set_theme(style=\"ticks\")\n",
    "#df = dff\n",
    "sns.set(font_scale = 2)\n",
    "sns.set_style(\"whitegrid\", {'axes.grid' : False})\n",
    "ax = sns.barplot(x=\"type\", y=\"kl\", data=df[(df['env'] == 'interfere')& (df['N']<=500)],capsize=.1)\n",
    "ax.set(ylabel='KL divergence')\n",
    "ax.set(xlabel='Type')\n",
    "\n"
   ]
  },
  {
   "cell_type": "code",
   "execution_count": null,
   "metadata": {},
   "outputs": [],
   "source": []
  }
 ],
 "metadata": {
  "kernelspec": {
   "display_name": "Python 3",
   "language": "python",
   "name": "python3"
  },
  "language_info": {
   "codemirror_mode": {
    "name": "ipython",
    "version": 3
   },
   "file_extension": ".py",
   "mimetype": "text/x-python",
   "name": "python",
   "nbconvert_exporter": "python",
   "pygments_lexer": "ipython3",
   "version": "3.8.8"
  }
 },
 "nbformat": 4,
 "nbformat_minor": 4
}
