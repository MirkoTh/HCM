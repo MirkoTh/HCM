{
 "cells": [
  {
   "cell_type": "markdown",
   "id": "f51b97a2",
   "metadata": {
    "toc": true
   },
   "source": [
    "<h1>Table of Contents<span class=\"tocSkip\"></span></h1>\n",
    "<div class=\"toc\"><ul class=\"toc-item\"><li><span><a href=\"#Chunk-Model\" data-toc-modified-id=\"Chunk-Model-1\"><span class=\"toc-item-num\">1&nbsp;&nbsp;</span>Chunk Model</a></span></li></ul></div>"
   ]
  },
  {
   "cell_type": "code",
   "execution_count": 194,
   "id": "fab55e60",
   "metadata": {
    "ExecuteTime": {
     "end_time": "2023-03-07T17:00:13.030550Z",
     "start_time": "2023-03-07T17:00:13.022609Z"
    }
   },
   "outputs": [],
   "source": [
    "# first, test generative model on one dimensional graphs\n",
    "import sys\n",
    "sys.path.append('../HCM')\n",
    "from main import *\n",
    "import seaborn as sns\n",
    "import pandas as pd\n",
    "from functools import partial\n",
    "\n",
    "import operator\n",
    "import networkx as nx\n",
    "import matplotlib.pyplot as plt\n",
    "import numpy as np\n",
    "from collections import defaultdict"
   ]
  },
  {
   "cell_type": "markdown",
   "id": "3b705f48",
   "metadata": {},
   "source": [
    "## Chunk Model"
   ]
  },
  {
   "cell_type": "code",
   "execution_count": 2,
   "id": "b670c96a",
   "metadata": {
    "ExecuteTime": {
     "end_time": "2023-03-07T14:32:40.634094Z",
     "start_time": "2023-03-07T14:32:40.311084Z"
    }
   },
   "outputs": [
    {
     "data": {
      "text/plain": [
       "<Figure size 1000x1000 with 0 Axes>"
      ]
     },
     "metadata": {},
     "output_type": "display_data"
    }
   ],
   "source": [
    "# demonstrate the graph structure as the number of observation increases\n",
    "\n",
    "plt.figure(figsize = (10,10))\n",
    "\n",
    "def plot_chunk_graph(vertex_list, edges, location, ax=None, Print = False):\n",
    "    chunks = []\n",
    "    for ck in vertex_list:\n",
    "        chunks.append(list(np.ravel(tuple_to_arr(ck)).astype(int)))\n",
    "    if Print:\n",
    "        print('chunks ', chunks)\n",
    "        print('edges ', edges)\n",
    "        print('location ', location)\n",
    "    location[0] = [1,8]\n",
    "    element_palette = {0:'#FFFFFF', 1:'#FFCAB1', 2:'#C1D7AE', 3:'#B10FBD',4:'#6C809A'}  # colorblind palette\n",
    "    chunk_element_offset = {1: [0], 2: [-0.1, 0.1], 3: [-0.2, 0, 0.2], 4: [-0.3, -0.1, 0.1, 0.3],5:[-0.4, -0.2,0, 0.2, 0.4],6:[-0.6,-0.4, -0.2, 0, 0.2,0.4],7:[-0.6,-0.4, -0.2,0, 0.2, 0.4,0.6],8:[-0.8,-0.6,-0.4, -0.2,0,0.2, 0.4,0.6]}\n",
    "\n",
    "\n",
    "    chunk_element_distance = 0.9\n",
    "    if ax is None:\n",
    "        f, ax = plt.subplots()\n",
    "\n",
    "    chunks_by_length = defaultdict(list)\n",
    "    for chunk in chunks:\n",
    "        chunks_by_length[len(chunk)].append(chunk)\n",
    "    max_width = max(len(v) for v in chunks_by_length.values())\n",
    "\n",
    "    node_pos = {}\n",
    "    for i in range(0,len(chunks)):\n",
    "        chunk = chunks[i]\n",
    "        chunk_id = chunks.index(chunk)\n",
    "        chunk_len = len(chunks[chunk_id])\n",
    "        n_on_level = len(chunks_by_length[chunk_len])\n",
    "        id_on_level = chunks_by_length[chunk_len].index(chunk)\n",
    "        xpos = location[i][0]\n",
    "        ypos = location[i][1]\n",
    "        node_pos[chunk_id] = (xpos, ypos)\n",
    "\n",
    "    G = nx.MultiDiGraph()\n",
    "    for node in range(len(chunks)):\n",
    "        G.add_node(node, pos=node_pos[node])\n",
    "\n",
    "    for edge in edges:\n",
    "        G.add_edge(edge[0], edge[1], weight=0)\n",
    "\n",
    "    edge_color = ['k' if weight else 'grey' for weight in nx.get_edge_attributes(G,'weight').values()]\n",
    "\n",
    "    nx.draw_networkx(G, node_pos,\n",
    "                        node_color='grey',\n",
    "                        node_size=0.0001,\n",
    "                        #connectionstyle='arc3, rad = 0.1',\n",
    "                        arrowsize=15,\n",
    "                        width=3,\n",
    "                        with_labels=False,\n",
    "                        edge_color=edge_color,\n",
    "                        alpha = 0.3,\n",
    "                        ax=ax)\n",
    "\n",
    "    for chunk_id, chunk in enumerate(chunks):\n",
    "\n",
    "        for element_id, element in enumerate(chunk):\n",
    "            ax.scatter([node_pos[chunk_id][0] + (chunk_element_offset[len(chunk)][element_id] * chunk_element_distance)],\n",
    "                        [node_pos[chunk_id][1]],\n",
    "                        c=element_palette[element % 5],\n",
    "                        edgecolors = 'lightgrey',\n",
    "                        linewidth=3,\n",
    "                        marker='s',\n",
    "                        s=600\n",
    "                        #zorder=5\n",
    "                        )\n",
    "    plt.axis(\"off\")\n",
    "    plt.show()\n",
    "\n",
    "    return ax"
   ]
  },
  {
   "cell_type": "markdown",
   "id": "2d824074",
   "metadata": {},
   "source": [
    "# Experimental Data"
   ]
  },
  {
   "cell_type": "code",
   "execution_count": 298,
   "id": "ae9989f8",
   "metadata": {
    "ExecuteTime": {
     "end_time": "2023-03-07T17:49:39.217388Z",
     "start_time": "2023-03-07T17:49:39.156582Z"
    }
   },
   "outputs": [],
   "source": [
    "tbl_e2 = pd.read_csv(\"../InputData/human_data/gershman-2018-e2.csv\")\n",
    "tbl_rb = pd.read_csv(\"../InputData/human_data/speekenbrink-konstantinidis-2015.csv\")\n",
    "tbl_rb[\"subject\"] = tbl_rb[\"id\"]"
   ]
  },
  {
   "cell_type": "code",
   "execution_count": 299,
   "id": "11e69185",
   "metadata": {
    "ExecuteTime": {
     "end_time": "2023-03-07T17:49:40.652391Z",
     "start_time": "2023-03-07T17:49:40.638003Z"
    }
   },
   "outputs": [],
   "source": [
    "tbl_e2_grouped = tbl_e2.groupby(tbl_e2[\"subject\"])\n",
    "e2_subjects = list(tbl_e2_grouped.groups.keys())"
   ]
  },
  {
   "cell_type": "code",
   "execution_count": 300,
   "id": "a59be44c",
   "metadata": {
    "ExecuteTime": {
     "end_time": "2023-03-07T17:49:40.979791Z",
     "start_time": "2023-03-07T17:49:40.971790Z"
    }
   },
   "outputs": [],
   "source": [
    "tbl_rb_grouped = tbl_rb.groupby(\"id\")\n",
    "rb_subjects = list(tbl_rb_grouped.groups.keys())"
   ]
  },
  {
   "cell_type": "code",
   "execution_count": 301,
   "id": "e15998c1",
   "metadata": {
    "ExecuteTime": {
     "end_time": "2023-03-07T17:49:41.305672Z",
     "start_time": "2023-03-07T17:49:41.289672Z"
    }
   },
   "outputs": [],
   "source": [
    "choices = tbl_e2_grouped.get_group(e2_subjects[0])[\"choice\"]"
   ]
  },
  {
   "cell_type": "markdown",
   "id": "8f13c03a",
   "metadata": {},
   "source": [
    "Transitions between blocks have to be marked\n",
    "\n",
    "Random samples of digits are used for that"
   ]
  },
  {
   "cell_type": "code",
   "execution_count": 302,
   "id": "f60ab6ac",
   "metadata": {
    "ExecuteTime": {
     "end_time": "2023-03-07T17:49:42.608673Z",
     "start_time": "2023-03-07T17:49:42.588753Z"
    }
   },
   "outputs": [],
   "source": [
    "tbl_design_e2 = tbl_e2[[\"subject\", \"block\"]].value_counts().reset_index()[[\"subject\", \"block\"]]\n",
    "trials_unique = pd.Series(np.concatenate((tbl_e2[\"trial\"].unique(), np.array([11]))), name = \"trial\")\n",
    "tbl_design_e2 = tbl_design_e2.merge(trials_unique, how = \"cross\")"
   ]
  },
  {
   "cell_type": "code",
   "execution_count": 303,
   "id": "9686b55f",
   "metadata": {
    "ExecuteTime": {
     "end_time": "2023-03-07T17:49:44.265765Z",
     "start_time": "2023-03-07T17:49:44.237766Z"
    }
   },
   "outputs": [
    {
     "data": {
      "text/html": [
       "<div>\n",
       "<style scoped>\n",
       "    .dataframe tbody tr th:only-of-type {\n",
       "        vertical-align: middle;\n",
       "    }\n",
       "\n",
       "    .dataframe tbody tr th {\n",
       "        vertical-align: top;\n",
       "    }\n",
       "\n",
       "    .dataframe thead th {\n",
       "        text-align: right;\n",
       "    }\n",
       "</style>\n",
       "<table border=\"1\" class=\"dataframe\">\n",
       "  <thead>\n",
       "    <tr style=\"text-align: right;\">\n",
       "      <th></th>\n",
       "      <th>cond</th>\n",
       "      <th>id</th>\n",
       "      <th>id2</th>\n",
       "      <th>seed</th>\n",
       "      <th>trial</th>\n",
       "      <th>deck</th>\n",
       "      <th>payoff</th>\n",
       "      <th>rt</th>\n",
       "      <th>block</th>\n",
       "      <th>age</th>\n",
       "      <th>gender</th>\n",
       "      <th>trend</th>\n",
       "      <th>volatility</th>\n",
       "      <th>previous_deck</th>\n",
       "      <th>repeat_deck</th>\n",
       "      <th>switch_deck</th>\n",
       "      <th>run_nr</th>\n",
       "      <th>run_length</th>\n",
       "      <th>subject</th>\n",
       "    </tr>\n",
       "  </thead>\n",
       "  <tbody>\n",
       "    <tr>\n",
       "      <th>0</th>\n",
       "      <td>ntn</td>\n",
       "      <td>1</td>\n",
       "      <td>21</td>\n",
       "      <td>1</td>\n",
       "      <td>1</td>\n",
       "      <td>1</td>\n",
       "      <td>-72</td>\n",
       "      <td>1908.4545</td>\n",
       "      <td>1</td>\n",
       "      <td>19</td>\n",
       "      <td>male</td>\n",
       "      <td>Trend</td>\n",
       "      <td>Variance Stable</td>\n",
       "      <td>NaN</td>\n",
       "      <td>0</td>\n",
       "      <td>1</td>\n",
       "      <td>1</td>\n",
       "      <td>1</td>\n",
       "      <td>1</td>\n",
       "    </tr>\n",
       "    <tr>\n",
       "      <th>1</th>\n",
       "      <td>ntn</td>\n",
       "      <td>1</td>\n",
       "      <td>21</td>\n",
       "      <td>1</td>\n",
       "      <td>2</td>\n",
       "      <td>2</td>\n",
       "      <td>0</td>\n",
       "      <td>3733.9498</td>\n",
       "      <td>1</td>\n",
       "      <td>19</td>\n",
       "      <td>male</td>\n",
       "      <td>Trend</td>\n",
       "      <td>Variance Stable</td>\n",
       "      <td>1.0</td>\n",
       "      <td>0</td>\n",
       "      <td>1</td>\n",
       "      <td>2</td>\n",
       "      <td>1</td>\n",
       "      <td>1</td>\n",
       "    </tr>\n",
       "    <tr>\n",
       "      <th>2</th>\n",
       "      <td>ntn</td>\n",
       "      <td>1</td>\n",
       "      <td>21</td>\n",
       "      <td>1</td>\n",
       "      <td>3</td>\n",
       "      <td>3</td>\n",
       "      <td>0</td>\n",
       "      <td>3162.7877</td>\n",
       "      <td>1</td>\n",
       "      <td>19</td>\n",
       "      <td>male</td>\n",
       "      <td>Trend</td>\n",
       "      <td>Variance Stable</td>\n",
       "      <td>2.0</td>\n",
       "      <td>0</td>\n",
       "      <td>1</td>\n",
       "      <td>3</td>\n",
       "      <td>1</td>\n",
       "      <td>1</td>\n",
       "    </tr>\n",
       "    <tr>\n",
       "      <th>3</th>\n",
       "      <td>ntn</td>\n",
       "      <td>1</td>\n",
       "      <td>21</td>\n",
       "      <td>1</td>\n",
       "      <td>4</td>\n",
       "      <td>4</td>\n",
       "      <td>50</td>\n",
       "      <td>3027.3895</td>\n",
       "      <td>1</td>\n",
       "      <td>19</td>\n",
       "      <td>male</td>\n",
       "      <td>Trend</td>\n",
       "      <td>Variance Stable</td>\n",
       "      <td>3.0</td>\n",
       "      <td>0</td>\n",
       "      <td>1</td>\n",
       "      <td>4</td>\n",
       "      <td>1</td>\n",
       "      <td>1</td>\n",
       "    </tr>\n",
       "    <tr>\n",
       "      <th>4</th>\n",
       "      <td>ntn</td>\n",
       "      <td>1</td>\n",
       "      <td>21</td>\n",
       "      <td>1</td>\n",
       "      <td>5</td>\n",
       "      <td>4</td>\n",
       "      <td>40</td>\n",
       "      <td>2418.0934</td>\n",
       "      <td>1</td>\n",
       "      <td>19</td>\n",
       "      <td>male</td>\n",
       "      <td>Trend</td>\n",
       "      <td>Variance Stable</td>\n",
       "      <td>4.0</td>\n",
       "      <td>1</td>\n",
       "      <td>0</td>\n",
       "      <td>4</td>\n",
       "      <td>2</td>\n",
       "      <td>1</td>\n",
       "    </tr>\n",
       "  </tbody>\n",
       "</table>\n",
       "</div>"
      ],
      "text/plain": [
       "  cond  id  id2  seed  trial  deck  payoff         rt  block  age gender  \\\n",
       "0  ntn   1   21     1      1     1     -72  1908.4545      1   19   male   \n",
       "1  ntn   1   21     1      2     2       0  3733.9498      1   19   male   \n",
       "2  ntn   1   21     1      3     3       0  3162.7877      1   19   male   \n",
       "3  ntn   1   21     1      4     4      50  3027.3895      1   19   male   \n",
       "4  ntn   1   21     1      5     4      40  2418.0934      1   19   male   \n",
       "\n",
       "   trend       volatility  previous_deck  repeat_deck  switch_deck  run_nr  \\\n",
       "0  Trend  Variance Stable            NaN            0            1       1   \n",
       "1  Trend  Variance Stable            1.0            0            1       2   \n",
       "2  Trend  Variance Stable            2.0            0            1       3   \n",
       "3  Trend  Variance Stable            3.0            0            1       4   \n",
       "4  Trend  Variance Stable            4.0            1            0       4   \n",
       "\n",
       "   run_length  subject  \n",
       "0           1        1  \n",
       "1           1        1  \n",
       "2           1        1  \n",
       "3           1        1  \n",
       "4           2        1  "
      ]
     },
     "execution_count": 303,
     "metadata": {},
     "output_type": "execute_result"
    }
   ],
   "source": [
    "tbl_rb.head()"
   ]
  },
  {
   "cell_type": "code",
   "execution_count": 292,
   "id": "743ec96d",
   "metadata": {
    "ExecuteTime": {
     "end_time": "2023-03-07T17:47:51.552457Z",
     "start_time": "2023-03-07T17:47:51.532459Z"
    }
   },
   "outputs": [],
   "source": [
    "tbl_e2_extend = tbl_design_e2.merge(tbl_e2[[\"subject\", \"block\", \"trial\", \"choice\", \"repeat_choice\"]], how = \"left\")\n",
    "tbl_e2_extend[\"repeat_choice\"] = tbl_e2_extend[\"repeat_choice\"] + 1\n",
    "tbl_e2_extend.loc[tbl_e2_extend[\"trial\"] == 1, \"repeat_choice\"] = 5\n",
    "tbl_e2_extend.loc[tbl_e2_extend[\"trial\"] == 1, \"switch_choice\"] = 5"
   ]
  },
  {
   "cell_type": "code",
   "execution_count": 304,
   "id": "cd36a392",
   "metadata": {
    "ExecuteTime": {
     "end_time": "2023-03-07T17:50:04.564779Z",
     "start_time": "2023-03-07T17:50:04.548722Z"
    }
   },
   "outputs": [],
   "source": [
    "tbl_rb.loc[tbl_rb[\"trial\"] == 1, \"repeat_deck\"] = 5\n",
    "tbl_rb.loc[tbl_rb[\"trial\"] == 1, \"switch_deck\"] = 5"
   ]
  },
  {
   "cell_type": "code",
   "execution_count": 282,
   "id": "45b584b0",
   "metadata": {
    "ExecuteTime": {
     "end_time": "2023-03-07T17:45:41.770213Z",
     "start_time": "2023-03-07T17:45:41.754217Z"
    }
   },
   "outputs": [],
   "source": [
    "def get_chunks_one_participant(subj_idx, tbl, var):\n",
    "    # fill block transitions with random integers\n",
    "    if var in [\"choice\", \"repeat_choice\", \"repeat_deck\", \"switch_deck\"]:\n",
    "        choices = tbl[var][tbl[\"subject\"] == subj_idx]\n",
    "        choices[pd.isna(choices)] = np.random.choice([3, 4], size = choices[pd.isna(choices)].shape[0], replace = True)\n",
    "        n_token = 4\n",
    "    elif var == \"deck\":\n",
    "        choices = tbl[var][tbl[\"subject\"] == subj_idx]\n",
    "        n_token = 6\n",
    "    np_choices = choices.to_numpy().reshape(choices.shape[0], 1, 1)\n",
    "    # model\n",
    "    cggt = generative_model_random_combination(D=5, n=n_token)\n",
    "    cggt = to_chunking_graph(cggt)\n",
    "    learned_M, _, _, _ = partition_seq_hastily(np_choices, list(cggt.M.keys()))\n",
    "    cg = Chunking_Graph(DT = 0, theta=1)\n",
    "    cg = rational_chunking_all_info(np_choices, cg)\n",
    "    chunks = []\n",
    "    for ck in cg.vertex_list:\n",
    "        chunks.append(list(np.ravel(tuple_to_arr(ck)).astype(int)))\n",
    "    return chunks"
   ]
  },
  {
   "cell_type": "code",
   "execution_count": 116,
   "id": "6eec9a27",
   "metadata": {
    "ExecuteTime": {
     "end_time": "2023-03-07T16:06:52.394738Z",
     "start_time": "2023-03-07T16:06:52.372601Z"
    }
   },
   "outputs": [],
   "source": [
    "def chunk_switches(l_chunks):\n",
    "    for pos, ch in enumerate(l_chunks):\n",
    "        switches_pos = np.zeros(len(l_chunks))\n",
    "        if (len(ch) > 2):\n",
    "            n_switches = 0\n",
    "            for idx, item in enumerate(ch[0:-1]):\n",
    "                n_switches += item != ch[idx+1]\n",
    "                switches_pos[pos] = n_switches\n",
    "    return switches_pos"
   ]
  },
  {
   "cell_type": "markdown",
   "id": "84fafcb9",
   "metadata": {},
   "source": [
    "# Chunk Model on Experimental Data"
   ]
  },
  {
   "cell_type": "markdown",
   "id": "c46021ea",
   "metadata": {},
   "source": [
    "## Bandit Choices in Gershman (2018)"
   ]
  },
  {
   "cell_type": "code",
   "execution_count": 196,
   "id": "9d066545",
   "metadata": {
    "ExecuteTime": {
     "end_time": "2023-03-07T17:02:26.905951Z",
     "start_time": "2023-03-07T17:02:26.885953Z"
    }
   },
   "outputs": [],
   "source": [
    "f_partial = partial(get_chunks_one_participant, tbl = tbl_e2_extend, var = \"choice\")"
   ]
  },
  {
   "cell_type": "code",
   "execution_count": 197,
   "id": "82cb32ae",
   "metadata": {
    "ExecuteTime": {
     "end_time": "2023-03-07T17:02:32.461047Z",
     "start_time": "2023-03-07T17:02:27.320765Z"
    }
   },
   "outputs": [],
   "source": [
    "iterable = map(f_partial, e2_subjects)\n",
    "l_results_e2_choices = list(iterable)"
   ]
  },
  {
   "cell_type": "code",
   "execution_count": 198,
   "id": "a78eb5de",
   "metadata": {
    "ExecuteTime": {
     "end_time": "2023-03-07T17:02:37.765920Z",
     "start_time": "2023-03-07T17:02:37.757920Z"
    }
   },
   "outputs": [],
   "source": [
    "iterable = map(chunk_switches, l_results_e2_choices)\n",
    "l_chunk_results = list(iterable)"
   ]
  },
  {
   "cell_type": "code",
   "execution_count": 199,
   "id": "d129277e",
   "metadata": {
    "ExecuteTime": {
     "end_time": "2023-03-07T17:02:44.246548Z",
     "start_time": "2023-03-07T17:02:44.234496Z"
    }
   },
   "outputs": [
    {
     "name": "stdout",
     "output_type": "stream",
     "text": [
      "4/44 participants with chunks\n"
     ]
    }
   ],
   "source": [
    "it = map(lambda x: x.sum(axis=0), l_chunk_results)\n",
    "chunks = list(it)\n",
    "chunks_per_participant = [ch > 1 for ch in chunks]\n",
    "print(str(sum(chunks_per_participant)) + \"/\" + str(len(l_chunk_results)) + \" participants with chunks\")"
   ]
  },
  {
   "cell_type": "code",
   "execution_count": 200,
   "id": "40f9280a",
   "metadata": {
    "ExecuteTime": {
     "end_time": "2023-03-07T17:02:48.466579Z",
     "start_time": "2023-03-07T17:02:48.446580Z"
    },
    "scrolled": false
   },
   "outputs": [],
   "source": [
    "chunks_observed =  [(idx,l_results_e2_choices[idx]) for idx, ch in enumerate(chunks_per_participant) if ch == True]"
   ]
  },
  {
   "cell_type": "code",
   "execution_count": 201,
   "id": "be9ff0e3",
   "metadata": {
    "ExecuteTime": {
     "end_time": "2023-03-07T17:02:48.817429Z",
     "start_time": "2023-03-07T17:02:48.797430Z"
    },
    "scrolled": true
   },
   "outputs": [],
   "source": [
    "l_switch_chunk = []\n",
    "for ch_obs in chunks_observed:\n",
    "    l_switch_chunk.append(\n",
    "        [ch_obs[1][idx] for idx, ch in enumerate(l_chunk_results[ch_obs[0]] > 1) if ch]\n",
    "    )"
   ]
  },
  {
   "cell_type": "code",
   "execution_count": 202,
   "id": "bd71eeb1",
   "metadata": {
    "ExecuteTime": {
     "end_time": "2023-03-07T17:02:49.358534Z",
     "start_time": "2023-03-07T17:02:49.338537Z"
    }
   },
   "outputs": [
    {
     "data": {
      "text/plain": [
       "[[[1, 2, 1, 2]], [[1, 2, 1]], [[1, 2, 1, 1, 1, 1]], [[1, 2, 1, 2]]]"
      ]
     },
     "execution_count": 202,
     "metadata": {},
     "output_type": "execute_result"
    }
   ],
   "source": [
    "l_switch_chunk"
   ]
  },
  {
   "cell_type": "markdown",
   "id": "d9c02d8e",
   "metadata": {},
   "source": [
    "## Repeat Choices in Gershman (2018)"
   ]
  },
  {
   "cell_type": "code",
   "execution_count": 263,
   "id": "ad717230",
   "metadata": {
    "ExecuteTime": {
     "end_time": "2023-03-07T17:35:01.886838Z",
     "start_time": "2023-03-07T17:35:01.870781Z"
    }
   },
   "outputs": [],
   "source": [
    "f_partial = partial(get_chunks_one_participant, tbl = tbl_e2_extend, var = \"repeat_choice\")"
   ]
  },
  {
   "cell_type": "code",
   "execution_count": 264,
   "id": "27e47906",
   "metadata": {
    "ExecuteTime": {
     "end_time": "2023-03-07T17:35:07.794641Z",
     "start_time": "2023-03-07T17:35:02.166842Z"
    }
   },
   "outputs": [
    {
     "name": "stderr",
     "output_type": "stream",
     "text": [
      "D:\\miniconda\\envs\\pytorch1\\lib\\site-packages\\scipy\\stats\\_stats_py.py:7166: RuntimeWarning: invalid value encountered in divide\n",
      "  terms = (f_obs_float - f_exp)**2 / f_exp\n"
     ]
    }
   ],
   "source": [
    "iterable = map(f_partial, e2_subjects)\n",
    "l_results_e2_repeat = list(iterable)"
   ]
  },
  {
   "cell_type": "code",
   "execution_count": 265,
   "id": "fb4a07d3",
   "metadata": {
    "ExecuteTime": {
     "end_time": "2023-03-07T17:35:08.257732Z",
     "start_time": "2023-03-07T17:35:08.248740Z"
    }
   },
   "outputs": [],
   "source": [
    "iterable = map(chunk_switches, l_results_e2_repeat)\n",
    "l_chunk_results_repeat = list(iterable)"
   ]
  },
  {
   "cell_type": "code",
   "execution_count": 268,
   "id": "452c4c6a",
   "metadata": {
    "ExecuteTime": {
     "end_time": "2023-03-07T17:41:31.545186Z",
     "start_time": "2023-03-07T17:41:31.538204Z"
    }
   },
   "outputs": [
    {
     "name": "stdout",
     "output_type": "stream",
     "text": [
      "8/44 participants with chunks\n"
     ]
    }
   ],
   "source": [
    "it = map(lambda x: x.sum(axis=0), l_chunk_results_repeat)\n",
    "chunks = list(it)\n",
    "chunks_per_participant = [ch > 1 for ch in chunks]\n",
    "print(str(sum(chunks_per_participant)) + \"/\" + str(len(l_chunk_results)) + \" participants with chunks\")"
   ]
  },
  {
   "cell_type": "code",
   "execution_count": 269,
   "id": "b22598ce",
   "metadata": {
    "ExecuteTime": {
     "end_time": "2023-03-07T17:41:50.684376Z",
     "start_time": "2023-03-07T17:41:50.672318Z"
    },
    "scrolled": false
   },
   "outputs": [],
   "source": [
    "chunks_observed =  [(idx,l_results_e2_repeat[idx]) for idx, ch in enumerate(chunks_per_participant) if ch == True]"
   ]
  },
  {
   "cell_type": "code",
   "execution_count": 270,
   "id": "b2ee1f59",
   "metadata": {
    "ExecuteTime": {
     "end_time": "2023-03-07T17:42:02.692405Z",
     "start_time": "2023-03-07T17:42:02.672402Z"
    },
    "scrolled": true
   },
   "outputs": [],
   "source": [
    "l_switch_chunk = []\n",
    "for ch_obs in chunks_observed:\n",
    "    l_switch_chunk.append(\n",
    "        [ch_obs[1][idx] for idx, ch in enumerate(l_chunk_results_repeat[ch_obs[0]] > 1) if ch]\n",
    "    )"
   ]
  },
  {
   "cell_type": "code",
   "execution_count": 271,
   "id": "e4812b37",
   "metadata": {
    "ExecuteTime": {
     "end_time": "2023-03-07T17:42:03.611763Z",
     "start_time": "2023-03-07T17:42:03.591760Z"
    }
   },
   "outputs": [
    {
     "data": {
      "text/plain": [
       "[[[5, 1, 2, 2, 2, 2]],\n",
       " [[5, 1, 1, 2, 2, 2, 2]],\n",
       " [[2, 1, 2, 2, 2, 2]],\n",
       " [[5, 1, 2, 2, 2, 2]],\n",
       " [[5, 1, 2, 2, 2, 2]],\n",
       " [[5, 1, 2, 2]],\n",
       " [[3, 5, 1, 1]],\n",
       " [[5, 1, 1, 2, 2, 2, 2]]]"
      ]
     },
     "execution_count": 271,
     "metadata": {},
     "output_type": "execute_result"
    }
   ],
   "source": [
    "l_switch_chunk"
   ]
  },
  {
   "cell_type": "markdown",
   "id": "6bbffed7",
   "metadata": {},
   "source": [
    "## Decks in Speekenbrink & Konstantinidis (2015)"
   ]
  },
  {
   "cell_type": "code",
   "execution_count": 307,
   "id": "272fa57f",
   "metadata": {
    "ExecuteTime": {
     "end_time": "2023-03-07T17:52:06.656858Z",
     "start_time": "2023-03-07T17:52:06.644863Z"
    }
   },
   "outputs": [],
   "source": [
    "tbl_rb_sub = tbl_rb.loc[(tbl_rb[\"trend\"] == \"Trend\") & (tbl_rb[\"volatility\"] == \"Variance Stable\"),]"
   ]
  },
  {
   "cell_type": "code",
   "execution_count": 309,
   "id": "dc276c22",
   "metadata": {
    "ExecuteTime": {
     "end_time": "2023-03-07T17:52:20.622420Z",
     "start_time": "2023-03-07T17:52:20.610424Z"
    }
   },
   "outputs": [],
   "source": [
    "f_partial = partial(get_chunks_one_participant, tbl = tbl_rb_sub, var = \"repeat_deck\")"
   ]
  },
  {
   "cell_type": "code",
   "execution_count": 310,
   "id": "c449e6af",
   "metadata": {
    "ExecuteTime": {
     "end_time": "2023-03-07T17:52:24.181409Z",
     "start_time": "2023-03-07T17:52:22.244167Z"
    }
   },
   "outputs": [],
   "source": [
    "iterable = map(f_partial, rb_subjects)\n",
    "l_results_rb_decks = list(iterable)"
   ]
  },
  {
   "cell_type": "code",
   "execution_count": 311,
   "id": "fbd4c8e3",
   "metadata": {
    "ExecuteTime": {
     "end_time": "2023-03-07T17:52:24.229415Z",
     "start_time": "2023-03-07T17:52:24.185419Z"
    }
   },
   "outputs": [
    {
     "data": {
      "text/html": [
       "<div>\n",
       "<style scoped>\n",
       "    .dataframe tbody tr th:only-of-type {\n",
       "        vertical-align: middle;\n",
       "    }\n",
       "\n",
       "    .dataframe tbody tr th {\n",
       "        vertical-align: top;\n",
       "    }\n",
       "\n",
       "    .dataframe thead th {\n",
       "        text-align: right;\n",
       "    }\n",
       "</style>\n",
       "<table border=\"1\" class=\"dataframe\">\n",
       "  <thead>\n",
       "    <tr style=\"text-align: right;\">\n",
       "      <th></th>\n",
       "      <th>cond</th>\n",
       "      <th>id</th>\n",
       "      <th>id2</th>\n",
       "      <th>seed</th>\n",
       "      <th>trial</th>\n",
       "      <th>deck</th>\n",
       "      <th>payoff</th>\n",
       "      <th>rt</th>\n",
       "      <th>block</th>\n",
       "      <th>age</th>\n",
       "      <th>gender</th>\n",
       "      <th>trend</th>\n",
       "      <th>volatility</th>\n",
       "      <th>previous_deck</th>\n",
       "      <th>repeat_deck</th>\n",
       "      <th>switch_deck</th>\n",
       "      <th>run_nr</th>\n",
       "      <th>run_length</th>\n",
       "      <th>subject</th>\n",
       "    </tr>\n",
       "  </thead>\n",
       "  <tbody>\n",
       "    <tr>\n",
       "      <th>0</th>\n",
       "      <td>ntn</td>\n",
       "      <td>1</td>\n",
       "      <td>21</td>\n",
       "      <td>1</td>\n",
       "      <td>1</td>\n",
       "      <td>1</td>\n",
       "      <td>-72</td>\n",
       "      <td>1908.4545</td>\n",
       "      <td>1</td>\n",
       "      <td>19</td>\n",
       "      <td>male</td>\n",
       "      <td>Trend</td>\n",
       "      <td>Variance Stable</td>\n",
       "      <td>NaN</td>\n",
       "      <td>5</td>\n",
       "      <td>5</td>\n",
       "      <td>1</td>\n",
       "      <td>1</td>\n",
       "      <td>1</td>\n",
       "    </tr>\n",
       "    <tr>\n",
       "      <th>1</th>\n",
       "      <td>ntn</td>\n",
       "      <td>1</td>\n",
       "      <td>21</td>\n",
       "      <td>1</td>\n",
       "      <td>2</td>\n",
       "      <td>2</td>\n",
       "      <td>0</td>\n",
       "      <td>3733.9498</td>\n",
       "      <td>1</td>\n",
       "      <td>19</td>\n",
       "      <td>male</td>\n",
       "      <td>Trend</td>\n",
       "      <td>Variance Stable</td>\n",
       "      <td>1.0</td>\n",
       "      <td>0</td>\n",
       "      <td>1</td>\n",
       "      <td>2</td>\n",
       "      <td>1</td>\n",
       "      <td>1</td>\n",
       "    </tr>\n",
       "    <tr>\n",
       "      <th>2</th>\n",
       "      <td>ntn</td>\n",
       "      <td>1</td>\n",
       "      <td>21</td>\n",
       "      <td>1</td>\n",
       "      <td>3</td>\n",
       "      <td>3</td>\n",
       "      <td>0</td>\n",
       "      <td>3162.7877</td>\n",
       "      <td>1</td>\n",
       "      <td>19</td>\n",
       "      <td>male</td>\n",
       "      <td>Trend</td>\n",
       "      <td>Variance Stable</td>\n",
       "      <td>2.0</td>\n",
       "      <td>0</td>\n",
       "      <td>1</td>\n",
       "      <td>3</td>\n",
       "      <td>1</td>\n",
       "      <td>1</td>\n",
       "    </tr>\n",
       "    <tr>\n",
       "      <th>3</th>\n",
       "      <td>ntn</td>\n",
       "      <td>1</td>\n",
       "      <td>21</td>\n",
       "      <td>1</td>\n",
       "      <td>4</td>\n",
       "      <td>4</td>\n",
       "      <td>50</td>\n",
       "      <td>3027.3895</td>\n",
       "      <td>1</td>\n",
       "      <td>19</td>\n",
       "      <td>male</td>\n",
       "      <td>Trend</td>\n",
       "      <td>Variance Stable</td>\n",
       "      <td>3.0</td>\n",
       "      <td>0</td>\n",
       "      <td>1</td>\n",
       "      <td>4</td>\n",
       "      <td>1</td>\n",
       "      <td>1</td>\n",
       "    </tr>\n",
       "    <tr>\n",
       "      <th>4</th>\n",
       "      <td>ntn</td>\n",
       "      <td>1</td>\n",
       "      <td>21</td>\n",
       "      <td>1</td>\n",
       "      <td>5</td>\n",
       "      <td>4</td>\n",
       "      <td>40</td>\n",
       "      <td>2418.0934</td>\n",
       "      <td>1</td>\n",
       "      <td>19</td>\n",
       "      <td>male</td>\n",
       "      <td>Trend</td>\n",
       "      <td>Variance Stable</td>\n",
       "      <td>4.0</td>\n",
       "      <td>1</td>\n",
       "      <td>0</td>\n",
       "      <td>4</td>\n",
       "      <td>2</td>\n",
       "      <td>1</td>\n",
       "    </tr>\n",
       "    <tr>\n",
       "      <th>...</th>\n",
       "      <td>...</td>\n",
       "      <td>...</td>\n",
       "      <td>...</td>\n",
       "      <td>...</td>\n",
       "      <td>...</td>\n",
       "      <td>...</td>\n",
       "      <td>...</td>\n",
       "      <td>...</td>\n",
       "      <td>...</td>\n",
       "      <td>...</td>\n",
       "      <td>...</td>\n",
       "      <td>...</td>\n",
       "      <td>...</td>\n",
       "      <td>...</td>\n",
       "      <td>...</td>\n",
       "      <td>...</td>\n",
       "      <td>...</td>\n",
       "      <td>...</td>\n",
       "      <td>...</td>\n",
       "    </tr>\n",
       "    <tr>\n",
       "      <th>15995</th>\n",
       "      <td>ts</td>\n",
       "      <td>20</td>\n",
       "      <td>60</td>\n",
       "      <td>4</td>\n",
       "      <td>196</td>\n",
       "      <td>2</td>\n",
       "      <td>31</td>\n",
       "      <td>1729.2862</td>\n",
       "      <td>8</td>\n",
       "      <td>20</td>\n",
       "      <td>female</td>\n",
       "      <td>No Trend</td>\n",
       "      <td>Variance Changes</td>\n",
       "      <td>2.0</td>\n",
       "      <td>1</td>\n",
       "      <td>0</td>\n",
       "      <td>3861</td>\n",
       "      <td>9</td>\n",
       "      <td>20</td>\n",
       "    </tr>\n",
       "    <tr>\n",
       "      <th>15996</th>\n",
       "      <td>ts</td>\n",
       "      <td>20</td>\n",
       "      <td>60</td>\n",
       "      <td>4</td>\n",
       "      <td>197</td>\n",
       "      <td>2</td>\n",
       "      <td>20</td>\n",
       "      <td>2006.1217</td>\n",
       "      <td>8</td>\n",
       "      <td>20</td>\n",
       "      <td>female</td>\n",
       "      <td>No Trend</td>\n",
       "      <td>Variance Changes</td>\n",
       "      <td>2.0</td>\n",
       "      <td>1</td>\n",
       "      <td>0</td>\n",
       "      <td>3861</td>\n",
       "      <td>10</td>\n",
       "      <td>20</td>\n",
       "    </tr>\n",
       "    <tr>\n",
       "      <th>15997</th>\n",
       "      <td>ts</td>\n",
       "      <td>20</td>\n",
       "      <td>60</td>\n",
       "      <td>4</td>\n",
       "      <td>198</td>\n",
       "      <td>1</td>\n",
       "      <td>-15</td>\n",
       "      <td>2412.5147</td>\n",
       "      <td>8</td>\n",
       "      <td>20</td>\n",
       "      <td>female</td>\n",
       "      <td>No Trend</td>\n",
       "      <td>Variance Changes</td>\n",
       "      <td>2.0</td>\n",
       "      <td>0</td>\n",
       "      <td>1</td>\n",
       "      <td>3862</td>\n",
       "      <td>1</td>\n",
       "      <td>20</td>\n",
       "    </tr>\n",
       "    <tr>\n",
       "      <th>15998</th>\n",
       "      <td>ts</td>\n",
       "      <td>20</td>\n",
       "      <td>60</td>\n",
       "      <td>4</td>\n",
       "      <td>199</td>\n",
       "      <td>2</td>\n",
       "      <td>16</td>\n",
       "      <td>1606.3952</td>\n",
       "      <td>8</td>\n",
       "      <td>20</td>\n",
       "      <td>female</td>\n",
       "      <td>No Trend</td>\n",
       "      <td>Variance Changes</td>\n",
       "      <td>1.0</td>\n",
       "      <td>0</td>\n",
       "      <td>1</td>\n",
       "      <td>3863</td>\n",
       "      <td>1</td>\n",
       "      <td>20</td>\n",
       "    </tr>\n",
       "    <tr>\n",
       "      <th>15999</th>\n",
       "      <td>ts</td>\n",
       "      <td>20</td>\n",
       "      <td>60</td>\n",
       "      <td>4</td>\n",
       "      <td>200</td>\n",
       "      <td>2</td>\n",
       "      <td>23</td>\n",
       "      <td>1820.7892</td>\n",
       "      <td>8</td>\n",
       "      <td>20</td>\n",
       "      <td>female</td>\n",
       "      <td>No Trend</td>\n",
       "      <td>Variance Changes</td>\n",
       "      <td>2.0</td>\n",
       "      <td>1</td>\n",
       "      <td>0</td>\n",
       "      <td>3863</td>\n",
       "      <td>2</td>\n",
       "      <td>20</td>\n",
       "    </tr>\n",
       "  </tbody>\n",
       "</table>\n",
       "<p>16000 rows × 19 columns</p>\n",
       "</div>"
      ],
      "text/plain": [
       "      cond  id  id2  seed  trial  deck  payoff         rt  block  age  gender  \\\n",
       "0      ntn   1   21     1      1     1     -72  1908.4545      1   19    male   \n",
       "1      ntn   1   21     1      2     2       0  3733.9498      1   19    male   \n",
       "2      ntn   1   21     1      3     3       0  3162.7877      1   19    male   \n",
       "3      ntn   1   21     1      4     4      50  3027.3895      1   19    male   \n",
       "4      ntn   1   21     1      5     4      40  2418.0934      1   19    male   \n",
       "...    ...  ..  ...   ...    ...   ...     ...        ...    ...  ...     ...   \n",
       "15995   ts  20   60     4    196     2      31  1729.2862      8   20  female   \n",
       "15996   ts  20   60     4    197     2      20  2006.1217      8   20  female   \n",
       "15997   ts  20   60     4    198     1     -15  2412.5147      8   20  female   \n",
       "15998   ts  20   60     4    199     2      16  1606.3952      8   20  female   \n",
       "15999   ts  20   60     4    200     2      23  1820.7892      8   20  female   \n",
       "\n",
       "          trend        volatility  previous_deck  repeat_deck  switch_deck  \\\n",
       "0         Trend   Variance Stable            NaN            5            5   \n",
       "1         Trend   Variance Stable            1.0            0            1   \n",
       "2         Trend   Variance Stable            2.0            0            1   \n",
       "3         Trend   Variance Stable            3.0            0            1   \n",
       "4         Trend   Variance Stable            4.0            1            0   \n",
       "...         ...               ...            ...          ...          ...   \n",
       "15995  No Trend  Variance Changes            2.0            1            0   \n",
       "15996  No Trend  Variance Changes            2.0            1            0   \n",
       "15997  No Trend  Variance Changes            2.0            0            1   \n",
       "15998  No Trend  Variance Changes            1.0            0            1   \n",
       "15999  No Trend  Variance Changes            2.0            1            0   \n",
       "\n",
       "       run_nr  run_length  subject  \n",
       "0           1           1        1  \n",
       "1           2           1        1  \n",
       "2           3           1        1  \n",
       "3           4           1        1  \n",
       "4           4           2        1  \n",
       "...       ...         ...      ...  \n",
       "15995    3861           9       20  \n",
       "15996    3861          10       20  \n",
       "15997    3862           1       20  \n",
       "15998    3863           1       20  \n",
       "15999    3863           2       20  \n",
       "\n",
       "[16000 rows x 19 columns]"
      ]
     },
     "execution_count": 311,
     "metadata": {},
     "output_type": "execute_result"
    }
   ],
   "source": [
    "tbl_rb"
   ]
  },
  {
   "cell_type": "code",
   "execution_count": 312,
   "id": "e6aaee25",
   "metadata": {
    "ExecuteTime": {
     "end_time": "2023-03-07T17:52:25.420923Z",
     "start_time": "2023-03-07T17:52:25.404983Z"
    },
    "scrolled": false
   },
   "outputs": [
    {
     "data": {
      "text/plain": [
       "[[[5], [0], [1], [1, 1], [1, 1, 1, 1], [1, 1, 1, 1, 1, 1, 1, 1]],\n",
       " [[5],\n",
       "  [1],\n",
       "  [0],\n",
       "  [1, 1],\n",
       "  [1, 1, 1, 1],\n",
       "  [1, 1, 1, 1, 1, 1, 1, 1],\n",
       "  [1, 1, 1, 1, 1, 1, 1, 1, 1, 1, 1, 1, 1, 1, 1, 1]],\n",
       " [[5],\n",
       "  [1],\n",
       "  [0],\n",
       "  [1, 1],\n",
       "  [1, 1, 1, 1],\n",
       "  [1, 1, 1, 1, 1, 1, 1, 1],\n",
       "  [1, 1, 1, 1, 1, 1, 1, 1, 1, 1, 1, 1, 1, 1, 1, 1]],\n",
       " [[5],\n",
       "  [0],\n",
       "  [1],\n",
       "  [1, 1],\n",
       "  [1, 1, 1, 1],\n",
       "  [1, 1, 1, 1, 1, 1, 1, 1],\n",
       "  [1, 1, 1, 1, 1, 1, 1, 1, 1, 1, 1, 1, 1, 1, 1, 1]],\n",
       " [[5],\n",
       "  [0],\n",
       "  [1],\n",
       "  [1, 1],\n",
       "  [1, 1, 1, 1],\n",
       "  [1, 1, 1, 1, 1, 1, 1, 1],\n",
       "  [1, 1, 1, 1, 1, 1, 1, 1, 1, 1, 1, 1, 1, 1, 1, 1]],\n",
       " [[5], [0], [1], [1, 1], [1, 1, 1, 1], [1, 1, 1, 1, 1, 1, 1, 1]],\n",
       " [[5], [0], [1], [1, 1], [1, 1, 1, 1], [1, 1, 1, 1, 1, 1, 1, 1]],\n",
       " [[5], [0], [1], [1, 1]],\n",
       " [[5], [0], [1], [1, 1], [1, 1, 1, 1], [1, 1, 1, 1, 1, 1, 1, 1]],\n",
       " [[5], [0], [1], [1, 1], [1, 1, 1, 1], [1, 1, 1, 1, 1, 1, 1, 1]],\n",
       " [[5], [1], [0], [1, 1], [1, 1, 1, 1], [1, 1, 1, 1, 1, 1, 1, 1]],\n",
       " [[5],\n",
       "  [0],\n",
       "  [1],\n",
       "  [1, 1],\n",
       "  [1, 1, 1, 1],\n",
       "  [1, 1, 1, 1, 1, 1, 1, 1],\n",
       "  [1, 1, 1, 1, 1, 1, 1, 1, 1, 1, 1, 1, 1, 1, 1, 1]],\n",
       " [[5], [0], [1], [1, 1], [1, 1, 1, 1], [1, 1, 1, 1, 1, 1, 1, 1]],\n",
       " [[5],\n",
       "  [0],\n",
       "  [1],\n",
       "  [1, 1],\n",
       "  [1, 1, 1, 1],\n",
       "  [1, 1, 1, 1, 1, 1, 1, 1],\n",
       "  [1, 1, 1, 1, 1, 1, 1, 1, 1, 1, 1, 1, 1, 1, 1, 1]],\n",
       " [[5],\n",
       "  [0],\n",
       "  [1],\n",
       "  [1, 1],\n",
       "  [1, 1, 1, 1],\n",
       "  [1, 1, 1, 1, 1, 1, 1, 1],\n",
       "  [1, 1, 1, 1, 1, 1, 1, 1, 1, 1, 1, 1, 1, 1, 1, 1]],\n",
       " [[5], [0], [1], [1, 1], [1, 1, 1, 1], [1, 1, 1, 1, 1, 1, 1, 1]],\n",
       " [[5], [0], [1], [1, 1], [1, 1, 1, 1], [1, 1, 1, 1, 1, 1, 1, 1]],\n",
       " [[5],\n",
       "  [0],\n",
       "  [1],\n",
       "  [1, 1],\n",
       "  [1, 1, 1, 1],\n",
       "  [1, 1, 1, 1, 1, 1, 1, 1],\n",
       "  [1, 1, 1, 1, 1, 1, 1, 1, 1, 1, 1, 1, 1, 1, 1, 1],\n",
       "  [1, 1, 1]],\n",
       " [[5], [0], [1], [1, 1], [1, 1, 1, 1], [1, 1, 1, 1, 1, 1, 1, 1], [1, 1, 1]],\n",
       " [[5], [0], [1], [1, 1], [1, 1, 1, 1], [1, 1, 1, 1, 1, 1, 1, 1]]]"
      ]
     },
     "execution_count": 312,
     "metadata": {},
     "output_type": "execute_result"
    }
   ],
   "source": [
    "l_results_rb_decks"
   ]
  },
  {
   "cell_type": "code",
   "execution_count": 265,
   "id": "29c0471a",
   "metadata": {
    "ExecuteTime": {
     "end_time": "2023-03-07T17:35:08.257732Z",
     "start_time": "2023-03-07T17:35:08.248740Z"
    }
   },
   "outputs": [],
   "source": [
    "iterable = map(chunk_switches, l_results_e2_repeat)\n",
    "l_chunk_results_repeat = list(iterable)"
   ]
  }
 ],
 "metadata": {
  "kernelspec": {
   "display_name": "Python 3 (ipykernel)",
   "language": "python",
   "name": "python3"
  },
  "language_info": {
   "codemirror_mode": {
    "name": "ipython",
    "version": 3
   },
   "file_extension": ".py",
   "mimetype": "text/x-python",
   "name": "python",
   "nbconvert_exporter": "python",
   "pygments_lexer": "ipython3",
   "version": "3.10.8"
  },
  "toc": {
   "base_numbering": 1,
   "nav_menu": {},
   "number_sections": true,
   "sideBar": true,
   "skip_h1_title": false,
   "title_cell": "Table of Contents",
   "title_sidebar": "Contents",
   "toc_cell": true,
   "toc_position": {},
   "toc_section_display": true,
   "toc_window_display": false
  }
 },
 "nbformat": 4,
 "nbformat_minor": 5
}
