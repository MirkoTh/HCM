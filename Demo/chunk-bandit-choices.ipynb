{
 "cells": [
  {
   "cell_type": "markdown",
   "id": "f51b97a2",
   "metadata": {
    "toc": true
   },
   "source": [
    "<h1>Table of Contents<span class=\"tocSkip\"></span></h1>\n",
    "<div class=\"toc\"><ul class=\"toc-item\"><li><span><a href=\"#Chunk-Model\" data-toc-modified-id=\"Chunk-Model-1\"><span class=\"toc-item-num\">1&nbsp;&nbsp;</span>Chunk Model</a></span></li></ul></div>"
   ]
  },
  {
   "cell_type": "code",
   "execution_count": 2,
   "id": "fab55e60",
   "metadata": {
    "ExecuteTime": {
     "end_time": "2023-03-06T13:22:00.265665Z",
     "start_time": "2023-03-06T13:21:58.111350Z"
    }
   },
   "outputs": [],
   "source": [
    "# first, test generative model on one dimensional graphs\n",
    "import sys\n",
    "sys.path.append('../HCM')\n",
    "from main import *\n",
    "import seaborn as sns\n",
    "import pandas as pd"
   ]
  },
  {
   "cell_type": "markdown",
   "id": "3b705f48",
   "metadata": {},
   "source": [
    "## Chunk Model"
   ]
  },
  {
   "cell_type": "code",
   "execution_count": 3,
   "id": "b670c96a",
   "metadata": {
    "ExecuteTime": {
     "end_time": "2023-03-06T13:22:00.482432Z",
     "start_time": "2023-03-06T13:22:00.267664Z"
    }
   },
   "outputs": [
    {
     "data": {
      "text/plain": [
       "<Figure size 1000x1000 with 0 Axes>"
      ]
     },
     "metadata": {},
     "output_type": "display_data"
    }
   ],
   "source": [
    "# demonstrate the graph structure as the number of observation increases\n",
    "import operator\n",
    "import networkx as nx\n",
    "import matplotlib.pyplot as plt\n",
    "import numpy as np\n",
    "from collections import defaultdict\n",
    "\n",
    "plt.figure(figsize = (10,10))\n",
    "\n",
    "def plot_chunk_graph(vertex_list, edges, location, ax=None, Print = False):\n",
    "    chunks = []\n",
    "    for ck in vertex_list:\n",
    "        chunks.append(list(np.ravel(tuple_to_arr(ck)).astype(int)))\n",
    "    if Print:\n",
    "        print('chunks ', chunks)\n",
    "        print('edges ', edges)\n",
    "        print('location ', location)\n",
    "    location[0] = [1,8]\n",
    "    element_palette = {0:'#FFFFFF', 1:'#FFCAB1', 2:'#C1D7AE', 3:'#B10FBD',4:'#6C809A'}  # colorblind palette\n",
    "    chunk_element_offset = {1: [0], 2: [-0.1, 0.1], 3: [-0.2, 0, 0.2], 4: [-0.3, -0.1, 0.1, 0.3],5:[-0.4, -0.2,0, 0.2, 0.4],6:[-0.6,-0.4, -0.2, 0, 0.2,0.4],7:[-0.6,-0.4, -0.2,0, 0.2, 0.4,0.6],8:[-0.8,-0.6,-0.4, -0.2,0,0.2, 0.4,0.6]}\n",
    "\n",
    "\n",
    "    chunk_element_distance = 0.9\n",
    "    if ax is None:\n",
    "        f, ax = plt.subplots()\n",
    "\n",
    "    chunks_by_length = defaultdict(list)\n",
    "    for chunk in chunks:\n",
    "        chunks_by_length[len(chunk)].append(chunk)\n",
    "    max_width = max(len(v) for v in chunks_by_length.values())\n",
    "\n",
    "    node_pos = {}\n",
    "    for i in range(0,len(chunks)):\n",
    "        chunk = chunks[i]\n",
    "        chunk_id = chunks.index(chunk)\n",
    "        chunk_len = len(chunks[chunk_id])\n",
    "        n_on_level = len(chunks_by_length[chunk_len])\n",
    "        id_on_level = chunks_by_length[chunk_len].index(chunk)\n",
    "        xpos = location[i][0]\n",
    "        ypos = location[i][1]\n",
    "        node_pos[chunk_id] = (xpos, ypos)\n",
    "\n",
    "    G = nx.MultiDiGraph()\n",
    "    for node in range(len(chunks)):\n",
    "        G.add_node(node, pos=node_pos[node])\n",
    "\n",
    "    for edge in edges:\n",
    "        G.add_edge(edge[0], edge[1], weight=0)\n",
    "\n",
    "    edge_color = ['k' if weight else 'grey' for weight in nx.get_edge_attributes(G,'weight').values()]\n",
    "\n",
    "    nx.draw_networkx(G, node_pos,\n",
    "                        node_color='grey',\n",
    "                        node_size=0.0001,\n",
    "                        #connectionstyle='arc3, rad = 0.1',\n",
    "                        arrowsize=15,\n",
    "                        width=3,\n",
    "                        with_labels=False,\n",
    "                        edge_color=edge_color,\n",
    "                        alpha = 0.3,\n",
    "                        ax=ax)\n",
    "\n",
    "    for chunk_id, chunk in enumerate(chunks):\n",
    "\n",
    "        for element_id, element in enumerate(chunk):\n",
    "            ax.scatter([node_pos[chunk_id][0] + (chunk_element_offset[len(chunk)][element_id] * chunk_element_distance)],\n",
    "                        [node_pos[chunk_id][1]],\n",
    "                        c=element_palette[element % 5],\n",
    "                        edgecolors = 'lightgrey',\n",
    "                        linewidth=3,\n",
    "                        marker='s',\n",
    "                        s=600\n",
    "                        #zorder=5\n",
    "                        )\n",
    "    plt.axis(\"off\")\n",
    "    plt.show()\n",
    "\n",
    "    return ax"
   ]
  },
  {
   "cell_type": "markdown",
   "id": "2d824074",
   "metadata": {},
   "source": [
    "# Experimental Data"
   ]
  },
  {
   "cell_type": "code",
   "execution_count": 4,
   "id": "ae9989f8",
   "metadata": {
    "ExecuteTime": {
     "end_time": "2023-03-06T13:22:00.575192Z",
     "start_time": "2023-03-06T13:22:00.485430Z"
    }
   },
   "outputs": [],
   "source": [
    "tbl_e2 = pd.read_csv(\"../InputData/human_data/gershman-2018-e2.csv\")\n",
    "tbl_rb = pd.read_csv(\"../InputData/human_data/speekenbrink-konstantinidis-2015.csv\")"
   ]
  },
  {
   "cell_type": "code",
   "execution_count": 5,
   "id": "11e69185",
   "metadata": {
    "ExecuteTime": {
     "end_time": "2023-03-06T13:22:03.214092Z",
     "start_time": "2023-03-06T13:22:03.199189Z"
    }
   },
   "outputs": [],
   "source": [
    "tbl_e2_grouped = tbl_e2.groupby(tbl_e2[\"subject\"])\n",
    "e2_subjects = list(tbl_e2_grouped.groups.keys())"
   ]
  },
  {
   "cell_type": "code",
   "execution_count": 6,
   "id": "a59be44c",
   "metadata": {
    "ExecuteTime": {
     "end_time": "2023-03-06T13:22:03.542143Z",
     "start_time": "2023-03-06T13:22:03.528125Z"
    }
   },
   "outputs": [],
   "source": [
    "tbl_rb_grouped = tbl_rb.groupby(\"id\")\n",
    "rb_subjects = list(tbl_rb_grouped.groups.keys())"
   ]
  },
  {
   "cell_type": "code",
   "execution_count": 7,
   "id": "e15998c1",
   "metadata": {
    "ExecuteTime": {
     "end_time": "2023-03-06T13:22:03.804523Z",
     "start_time": "2023-03-06T13:22:03.791122Z"
    }
   },
   "outputs": [],
   "source": [
    "choices = tbl_e2_grouped.get_group(e2_subjects[0])[\"choice\"]"
   ]
  },
  {
   "cell_type": "markdown",
   "id": "8f13c03a",
   "metadata": {},
   "source": [
    "Transitions between blocks have to be marked\n",
    "\n",
    "Random samples of digits are used for that"
   ]
  },
  {
   "cell_type": "code",
   "execution_count": 8,
   "id": "f60ab6ac",
   "metadata": {
    "ExecuteTime": {
     "end_time": "2023-03-06T13:22:04.687036Z",
     "start_time": "2023-03-06T13:22:04.661462Z"
    }
   },
   "outputs": [],
   "source": [
    "tbl_design_e2 = tbl_e2[[\"subject\", \"block\"]].value_counts().reset_index()[[\"subject\", \"block\"]]\n",
    "trials_unique = pd.Series(np.concatenate((tbl_e2[\"trial\"].unique(), np.array([11]))), name = \"trial\")\n",
    "tbl_design_e2 = tbl_design_e2.merge(trials_unique, how = \"cross\")"
   ]
  },
  {
   "cell_type": "code",
   "execution_count": 9,
   "id": "743ec96d",
   "metadata": {
    "ExecuteTime": {
     "end_time": "2023-03-06T13:22:05.152586Z",
     "start_time": "2023-03-06T13:22:05.127623Z"
    }
   },
   "outputs": [],
   "source": [
    "tbl_e2_extend = tbl_design_e2.merge(tbl_e2[[\"subject\", \"block\", \"trial\", \"choice\"]], how = \"left\")"
   ]
  },
  {
   "cell_type": "code",
   "execution_count": 15,
   "id": "45b584b0",
   "metadata": {
    "ExecuteTime": {
     "end_time": "2023-03-06T13:22:26.368556Z",
     "start_time": "2023-03-06T13:22:26.360575Z"
    }
   },
   "outputs": [],
   "source": [
    "def get_chunks_one_participant(subj_idx, tbl_e2_extend):\n",
    "    # fill block transitions with random integers\n",
    "    choices = tbl_e2_extend[\"choice\"][tbl_e2_extend[\"subject\"] == subj_idx]\n",
    "    choices[pd.isna(choices)] = np.round(np.random.normal(100, 20, 20))\n",
    "    np_choices = choices.to_numpy().reshape(choices.shape[0], 1, 1)\n",
    "    # model\n",
    "    cggt = generative_model_random_combination(D=5, n=5)\n",
    "    cggt = to_chunking_graph(cggt)\n",
    "    learned_M, _, _, _ = partition_seq_hastily(np_choices, list(cggt.M.keys()))\n",
    "    cg = Chunking_Graph(DT = 0, theta=1)\n",
    "    cg = rational_chunking_all_info(np_choices, cg) \n",
    "    return cg.vertex_list"
   ]
  },
  {
   "cell_type": "code",
   "execution_count": 11,
   "id": "92080a70",
   "metadata": {
    "ExecuteTime": {
     "end_time": "2023-03-06T13:22:05.912367Z",
     "start_time": "2023-03-06T13:22:05.904332Z"
    }
   },
   "outputs": [],
   "source": [
    "from functools import partial"
   ]
  },
  {
   "cell_type": "code",
   "execution_count": 12,
   "id": "9d066545",
   "metadata": {
    "ExecuteTime": {
     "end_time": "2023-03-06T13:22:06.192272Z",
     "start_time": "2023-03-06T13:22:06.175314Z"
    }
   },
   "outputs": [],
   "source": [
    "f_partial = partial(get_chunks_one_participant, tbl_e2_extend = tbl_e2_extend)"
   ]
  },
  {
   "cell_type": "code",
   "execution_count": 13,
   "id": "82cb32ae",
   "metadata": {
    "ExecuteTime": {
     "end_time": "2023-03-06T13:22:06.378299Z",
     "start_time": "2023-03-06T13:22:06.336241Z"
    }
   },
   "outputs": [
    {
     "ename": "NameError",
     "evalue": "name 'choices_s1' is not defined",
     "output_type": "error",
     "traceback": [
      "\u001b[1;31m---------------------------------------------------------------------------\u001b[0m",
      "\u001b[1;31mNameError\u001b[0m                                 Traceback (most recent call last)",
      "Cell \u001b[1;32mIn [13], line 2\u001b[0m\n\u001b[0;32m      1\u001b[0m iterable \u001b[38;5;241m=\u001b[39m \u001b[38;5;28mmap\u001b[39m(f_partial, e2_subjects)\n\u001b[1;32m----> 2\u001b[0m l_results_e2 \u001b[38;5;241m=\u001b[39m \u001b[38;5;28;43mlist\u001b[39;49m\u001b[43m(\u001b[49m\u001b[43miterable\u001b[49m\u001b[43m)\u001b[49m\n",
      "Cell \u001b[1;32mIn [10], line 5\u001b[0m, in \u001b[0;36mget_chunks_one_participant\u001b[1;34m(subj_idx, tbl_e2_extend)\u001b[0m\n\u001b[0;32m      3\u001b[0m choices \u001b[38;5;241m=\u001b[39m tbl_e2_extend[\u001b[38;5;124m\"\u001b[39m\u001b[38;5;124mchoice\u001b[39m\u001b[38;5;124m\"\u001b[39m][tbl_e2_extend[\u001b[38;5;124m\"\u001b[39m\u001b[38;5;124msubject\u001b[39m\u001b[38;5;124m\"\u001b[39m] \u001b[38;5;241m==\u001b[39m subj_idx]\n\u001b[0;32m      4\u001b[0m choices[pd\u001b[38;5;241m.\u001b[39misna(choices)] \u001b[38;5;241m=\u001b[39m np\u001b[38;5;241m.\u001b[39mround(np\u001b[38;5;241m.\u001b[39mrandom\u001b[38;5;241m.\u001b[39mnormal(\u001b[38;5;241m100\u001b[39m, \u001b[38;5;241m20\u001b[39m, \u001b[38;5;241m20\u001b[39m))\n\u001b[1;32m----> 5\u001b[0m np_choices \u001b[38;5;241m=\u001b[39m choices\u001b[38;5;241m.\u001b[39mto_numpy()\u001b[38;5;241m.\u001b[39mreshape(\u001b[43mchoices_s1\u001b[49m\u001b[38;5;241m.\u001b[39mshape[\u001b[38;5;241m0\u001b[39m], \u001b[38;5;241m1\u001b[39m, \u001b[38;5;241m1\u001b[39m)\n\u001b[0;32m      6\u001b[0m \u001b[38;5;66;03m# model\u001b[39;00m\n\u001b[0;32m      7\u001b[0m cggt \u001b[38;5;241m=\u001b[39m generative_model_random_combination(D\u001b[38;5;241m=\u001b[39m\u001b[38;5;241m5\u001b[39m, n\u001b[38;5;241m=\u001b[39m\u001b[38;5;241m5\u001b[39m)\n",
      "\u001b[1;31mNameError\u001b[0m: name 'choices_s1' is not defined"
     ]
    }
   ],
   "source": [
    "iterable = map(f_partial, e2_subjects)\n",
    "l_results_e2 = list(iterable)"
   ]
  },
  {
   "cell_type": "code",
   "execution_count": 33,
   "id": "ba86cb0b",
   "metadata": {
    "ExecuteTime": {
     "end_time": "2023-03-06T13:25:54.581018Z",
     "start_time": "2023-03-06T13:25:54.563065Z"
    }
   },
   "outputs": [],
   "source": [
    "choices_s1 = tbl_e2_extend[\"choice\"][tbl_e2_extend[\"subject\"] == 6]\n",
    "choices_s1[pd.isna(choices_s1)] = 3\n",
    "#choices_s1[pd.isna(choices_s1)] = np.round(np.random.normal(100, 20, 20))\n",
    "np_choices_s1 = choices_s1.to_numpy().reshape(choices_s1.shape[0], 1, 1)"
   ]
  },
  {
   "cell_type": "code",
   "execution_count": 34,
   "id": "ce7f2a87",
   "metadata": {
    "ExecuteTime": {
     "end_time": "2023-03-06T13:25:55.079875Z",
     "start_time": "2023-03-06T13:25:54.859460Z"
    }
   },
   "outputs": [
    {
     "data": {
      "image/png": "[encoded data removed]",
      "text/plain": [
       "<Figure size 640x480 with 1 Axes>"
      ]
     },
     "metadata": {},
     "output_type": "display_data"
    },
    {
     "data": {
      "text/plain": [
       "<AxesSubplot:>"
      ]
     },
     "execution_count": 34,
     "metadata": {},
     "output_type": "execute_result"
    }
   ],
   "source": [
    "cggt = generative_model_random_combination(D=5, n=3)\n",
    "cggt = to_chunking_graph(cggt)\n",
    "plot_chunk_graph(cggt.vertex_list,cggt.edge_list, cggt.vertex_location)"
   ]
  },
  {
   "cell_type": "code",
   "execution_count": 35,
   "id": "b09bbbaf",
   "metadata": {
    "ExecuteTime": {
     "end_time": "2023-03-06T13:25:55.443139Z",
     "start_time": "2023-03-06T13:25:55.201781Z"
    },
    "scrolled": false
   },
   "outputs": [
    {
     "name": "stdout",
     "output_type": "stream",
     "text": [
      "chunks  [[2], [1], [3], [1, 1], [2, 2], [2, 2, 2, 2], [1, 1, 1, 1], [2, 1]]\n",
      "edges  [(1, 3), (1, 3), (0, 4), (0, 4), (4, 5), (4, 5), (3, 6), (3, 6), (0, 7), (1, 7)]\n",
      "location  [[1, 0], [2, 0], [3, 0], [2.0, 1], [1.0, 2], [1.0, 3], [2.0, 4], [1.5, 5]]\n"
     ]
    },
    {
     "data": {
      "image/png": "[encoded data removed]",
      "text/plain": [
       "<Figure size 640x480 with 1 Axes>"
      ]
     },
     "metadata": {},
     "output_type": "display_data"
    },
    {
     "data": {
      "text/plain": [
       "<AxesSubplot:>"
      ]
     },
     "execution_count": 35,
     "metadata": {},
     "output_type": "execute_result"
    }
   ],
   "source": [
    "learned_M, _, _,_ = partition_seq_hastily(np_choices_s1, list(cggt.M.keys()))\n",
    "cg = Chunking_Graph(DT = 1, theta=0)\n",
    "cg = rational_chunking_all_info(np_choices_s1, cg) \n",
    "plot_chunk_graph(cg.vertex_list,cg.edge_list, cg.vertex_location, Print=True)"
   ]
  },
  {
   "cell_type": "code",
   "execution_count": null,
   "id": "0fe25e62",
   "metadata": {},
   "outputs": [],
   "source": []
  }
 ],
 "metadata": {
  "kernelspec": {
   "display_name": "Python 3 (ipykernel)",
   "language": "python",
   "name": "python3"
  },
  "language_info": {
   "codemirror_mode": {
    "name": "ipython",
    "version": 3
   },
   "file_extension": ".py",
   "mimetype": "text/x-python",
   "name": "python",
   "nbconvert_exporter": "python",
   "pygments_lexer": "ipython3",
   "version": "3.10.8"
  },
  "toc": {
   "base_numbering": 1,
   "nav_menu": {},
   "number_sections": true,
   "sideBar": true,
   "skip_h1_title": false,
   "title_cell": "Table of Contents",
   "title_sidebar": "Contents",
   "toc_cell": true,
   "toc_position": {},
   "toc_section_display": true,
   "toc_window_display": false
  }
 },
 "nbformat": 4,
 "nbformat_minor": 5
}
