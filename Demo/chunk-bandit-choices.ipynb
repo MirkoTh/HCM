{
 "cells": [
  {
   "cell_type": "markdown",
   "id": "f51b97a2",
   "metadata": {
    "toc": true
   },
   "source": [
    "<h1>Table of Contents<span class=\"tocSkip\"></span></h1>\n",
    "<div class=\"toc\"><ul class=\"toc-item\"><li><span><a href=\"#Chunk-Model\" data-toc-modified-id=\"Chunk-Model-1\"><span class=\"toc-item-num\">1&nbsp;&nbsp;</span>Chunk Model</a></span></li></ul></div>"
   ]
  },
  {
   "cell_type": "code",
   "execution_count": null,
   "id": "fab55e60",
   "metadata": {
    "ExecuteTime": {
     "end_time": "2023-03-05T16:46:05.611391Z",
     "start_time": "2023-03-05T16:46:03.181091Z"
    }
   },
   "outputs": [],
   "source": [
    "# first, test generative model on one dimensional graphs\n",
    "import sys\n",
    "sys.path.append('../HCM')\n",
    "from main import *\n",
    "import seaborn as sns\n",
    "import pandas as pd"
   ]
  },
  {
   "cell_type": "code",
   "execution_count": null,
   "id": "ae9989f8",
   "metadata": {
    "ExecuteTime": {
     "end_time": "2023-03-05T17:30:01.011469Z",
     "start_time": "2023-03-05T17:30:00.945367Z"
    }
   },
   "outputs": [],
   "source": [
    "tbl_e2 = pd.read_csv(\"../InputData/human_data/gershman-2018-e2.csv\")\n",
    "tbl_rb = pd.read_csv(\"../InputData/human_data/speekenbrink-konstantinidis-2015.csv\")"
   ]
  },
  {
   "cell_type": "code",
   "execution_count": null,
   "id": "11e69185",
   "metadata": {
    "ExecuteTime": {
     "end_time": "2023-03-05T17:30:13.803716Z",
     "start_time": "2023-03-05T17:30:13.783769Z"
    }
   },
   "outputs": [],
   "source": [
    "tbl_e2_grouped = tbl_e2.groupby(tbl_e2[\"subject\"])\n",
    "e2_subjects = list(tbl_e2_grouped.groups.keys())"
   ]
  },
  {
   "cell_type": "code",
   "execution_count": null,
   "id": "a59be44c",
   "metadata": {
    "ExecuteTime": {
     "end_time": "2023-03-05T17:30:14.055132Z",
     "start_time": "2023-03-05T17:30:14.039139Z"
    }
   },
   "outputs": [],
   "source": [
    "tbl_rb_grouped = tbl_rb.groupby(\"id\")\n",
    "rb_subjects = list(tbl_rb_grouped.groups.keys())"
   ]
  },
  {
   "cell_type": "code",
   "execution_count": null,
   "id": "e15998c1",
   "metadata": {
    "ExecuteTime": {
     "end_time": "2023-03-05T17:30:15.357770Z",
     "start_time": "2023-03-05T17:30:15.345761Z"
    }
   },
   "outputs": [],
   "source": [
    "choices = tbl_e2_grouped.get_group(e2_subjects[0])[\"choice\"]"
   ]
  },
  {
   "cell_type": "code",
   "execution_count": null,
   "id": "82e16a1b",
   "metadata": {
    "ExecuteTime": {
     "end_time": "2023-03-05T17:30:16.465630Z",
     "start_time": "2023-03-05T17:30:16.442645Z"
    },
    "scrolled": true
   },
   "outputs": [],
   "source": [
    "tbl_design_e2"
   ]
  },
  {
   "cell_type": "code",
   "execution_count": null,
   "id": "f60ab6ac",
   "metadata": {
    "ExecuteTime": {
     "end_time": "2023-03-05T17:30:21.051387Z",
     "start_time": "2023-03-05T17:30:21.030726Z"
    }
   },
   "outputs": [],
   "source": [
    "tbl_design_e2 = tbl_e2[[\"subject\", \"block\"]].value_counts().reset_index()[[\"subject\", \"block\"]]\n",
    "trials_unique = pd.Series(np.concatenate((tbl_e2[\"trial\"].unique(), np.array([11]))), name = \"trial\")\n",
    "tbl_design_e2 = tbl_design_e2.merge(trials_unique, how = \"cross\")"
   ]
  },
  {
   "cell_type": "code",
   "execution_count": null,
   "id": "743ec96d",
   "metadata": {
    "ExecuteTime": {
     "end_time": "2023-03-05T17:30:23.375176Z",
     "start_time": "2023-03-05T17:30:23.361216Z"
    }
   },
   "outputs": [],
   "source": [
    "tbl_e2_extend = tbl_design_e2.merge(tbl_e2[[\"subject\", \"block\", \"trial\", \"choice\"]], how = \"left\")"
   ]
  },
  {
   "cell_type": "code",
   "execution_count": null,
   "id": "ba86cb0b",
   "metadata": {
    "ExecuteTime": {
     "end_time": "2023-03-05T17:35:27.343494Z",
     "start_time": "2023-03-05T17:35:27.322255Z"
    }
   },
   "outputs": [],
   "source": [
    "choices_s1 = tbl_e2_extend[\"choice\"][tbl_e2_extend[\"subject\"] == 1]"
   ]
  },
  {
   "cell_type": "code",
   "execution_count": null,
   "id": "119fcaac",
   "metadata": {
    "ExecuteTime": {
     "end_time": "2023-03-05T17:35:27.657343Z",
     "start_time": "2023-03-05T17:35:27.639883Z"
    }
   },
   "outputs": [],
   "source": [
    "choices_s1[pd.isna(choices_s1)] = np.round(np.random.normal(100, 20, 20))"
   ]
  },
  {
   "cell_type": "code",
   "execution_count": null,
   "id": "af5de897",
   "metadata": {
    "ExecuteTime": {
     "end_time": "2023-03-05T17:35:29.412760Z",
     "start_time": "2023-03-05T17:35:29.399775Z"
    }
   },
   "outputs": [],
   "source": [
    "np_choices_s1 = choices_s1.to_numpy().reshape(choices_s1.shape[0], 1, 1)"
   ]
  },
  {
   "cell_type": "markdown",
   "id": "29862d98",
   "metadata": {},
   "source": [
    "## Chunk Model"
   ]
  },
  {
   "cell_type": "code",
   "execution_count": 133,
   "id": "79cc88d5",
   "metadata": {
    "ExecuteTime": {
     "end_time": "2023-03-05T17:39:00.427677Z",
     "start_time": "2023-03-05T17:39:00.404733Z"
    }
   },
   "outputs": [
    {
     "data": {
      "text/plain": [
       "<Figure size 1000x1000 with 0 Axes>"
      ]
     },
     "metadata": {},
     "output_type": "display_data"
    }
   ],
   "source": [
    "# demonstrate the graph structure as the number of observation increases\n",
    "import operator\n",
    "import networkx as nx\n",
    "import matplotlib.pyplot as plt\n",
    "import numpy as np\n",
    "from collections import defaultdict\n",
    "\n",
    "plt.figure(figsize = (10,10))\n",
    "\n",
    "def plot_chunk_graph(vertex_list, edges, location, ax=None, Print = False):\n",
    "    chunks = []\n",
    "    for ck in vertex_list:\n",
    "        chunks.append(list(np.ravel(tuple_to_arr(ck)).astype(int)))\n",
    "    if Print:\n",
    "        print('chunks ', chunks)\n",
    "        print('edges ', edges)\n",
    "        print('location ', location)\n",
    "    location[0] = [1,8]\n",
    "    element_palette = {0:'#FFFFFF', 1:'#FFCAB1', 2:'#C1D7AE', 3:'#B10FBD',4:'#6C809A'}  # colorblind palette\n",
    "    chunk_element_offset = {1: [0], 2: [-0.1, 0.1], 3: [-0.2, 0, 0.2], 4: [-0.3, -0.1, 0.1, 0.3],5:[-0.4, -0.2,0, 0.2, 0.4],6:[-0.6,-0.4, -0.2, 0, 0.2,0.4],7:[-0.6,-0.4, -0.2,0, 0.2, 0.4,0.6],8:[-0.8,-0.6,-0.4, -0.2,0,0.2, 0.4,0.6]}\n",
    "\n",
    "\n",
    "    chunk_element_distance = 0.9\n",
    "    if ax is None:\n",
    "        f, ax = plt.subplots()\n",
    "\n",
    "    chunks_by_length = defaultdict(list)\n",
    "    for chunk in chunks:\n",
    "        chunks_by_length[len(chunk)].append(chunk)\n",
    "    max_width = max(len(v) for v in chunks_by_length.values())\n",
    "\n",
    "    node_pos = {}\n",
    "    for i in range(0,len(chunks)):\n",
    "        chunk = chunks[i]\n",
    "        chunk_id = chunks.index(chunk)\n",
    "        chunk_len = len(chunks[chunk_id])\n",
    "        n_on_level = len(chunks_by_length[chunk_len])\n",
    "        id_on_level = chunks_by_length[chunk_len].index(chunk)\n",
    "        xpos = location[i][0]\n",
    "        ypos = location[i][1]\n",
    "        node_pos[chunk_id] = (xpos, ypos)\n",
    "\n",
    "    G = nx.MultiDiGraph()\n",
    "    for node in range(len(chunks)):\n",
    "        G.add_node(node, pos=node_pos[node])\n",
    "\n",
    "    for edge in edges:\n",
    "        G.add_edge(edge[0], edge[1], weight=0)\n",
    "\n",
    "    edge_color = ['k' if weight else 'grey' for weight in nx.get_edge_attributes(G,'weight').values()]\n",
    "\n",
    "    nx.draw_networkx(G, node_pos,\n",
    "                        node_color='grey',\n",
    "                        node_size=0.0001,\n",
    "                        #connectionstyle='arc3, rad = 0.1',\n",
    "                        arrowsize=15,\n",
    "                        width=3,\n",
    "                        with_labels=False,\n",
    "                        edge_color=edge_color,\n",
    "                        alpha = 0.3,\n",
    "                        ax=ax)\n",
    "\n",
    "    for chunk_id, chunk in enumerate(chunks):\n",
    "\n",
    "        for element_id, element in enumerate(chunk):\n",
    "            ax.scatter([node_pos[chunk_id][0] + (chunk_element_offset[len(chunk)][element_id] * chunk_element_distance)],\n",
    "                        [node_pos[chunk_id][1]],\n",
    "                        c=element_palette[element % 5],\n",
    "                        edgecolors = 'lightgrey',\n",
    "                        linewidth=3,\n",
    "                        marker='s',\n",
    "                        s=600\n",
    "                        #zorder=5\n",
    "                        )\n",
    "    plt.axis(\"off\")\n",
    "    plt.show()\n",
    "\n",
    "    return ax"
   ]
  },
  {
   "cell_type": "code",
   "execution_count": 132,
   "id": "5daef902",
   "metadata": {
    "ExecuteTime": {
     "end_time": "2023-03-05T17:38:47.553191Z",
     "start_time": "2023-03-05T17:38:47.541101Z"
    }
   },
   "outputs": [
    {
     "data": {
      "text/plain": [
       "3"
      ]
     },
     "execution_count": 132,
     "metadata": {},
     "output_type": "execute_result"
    }
   ],
   "source": [
    "23 % 4"
   ]
  },
  {
   "cell_type": "code",
   "execution_count": 128,
   "id": "11265ad2",
   "metadata": {
    "ExecuteTime": {
     "end_time": "2023-03-05T17:36:56.142138Z",
     "start_time": "2023-03-05T17:36:55.828185Z"
    }
   },
   "outputs": [
    {
     "data": {
      "image/png": "[encoded data removed]",
      "text/plain": [
       "<Figure size 640x480 with 1 Axes>"
      ]
     },
     "metadata": {},
     "output_type": "display_data"
    },
    {
     "data": {
      "text/plain": [
       "<AxesSubplot:>"
      ]
     },
     "execution_count": 128,
     "metadata": {},
     "output_type": "execute_result"
    }
   ],
   "source": [
    "cggt = generative_model_random_combination(D=5, n=5)\n",
    "cggt = to_chunking_graph(cggt)\n",
    "plot_chunk_graph(cggt.vertex_list,cggt.edge_list, cggt.vertex_location)"
   ]
  },
  {
   "cell_type": "code",
   "execution_count": 134,
   "id": "ce7f2a87",
   "metadata": {
    "ExecuteTime": {
     "end_time": "2023-03-05T17:39:03.973333Z",
     "start_time": "2023-03-05T17:39:03.548112Z"
    }
   },
   "outputs": [
    {
     "name": "stdout",
     "output_type": "stream",
     "text": [
      "chunks  [[1], [2], [129], [123], [78], [136], [95], [130], [103], [86], [80], [128], [116], [55], [120], [111], [110], [124], [114], [93], [1, 1], [2, 2], [2, 2, 2, 2], [1, 1, 1, 1], [1, 2]]\n",
      "edges  [(0, 20), (0, 20), (1, 21), (1, 21), (21, 22), (21, 22), (20, 23), (20, 23), (0, 24), (1, 24)]\n",
      "location  [[1, 0], [2, 0], [3, 0], [4, 0], [5, 0], [6, 0], [7, 0], [8, 0], [9, 0], [10, 0], [11, 0], [12, 0], [13, 0], [14, 0], [15, 0], [16, 0], [17, 0], [18, 0], [19, 0], [20, 0], [1.0, 1], [2.0, 2], [2.0, 3], [1.0, 4], [1.5, 5]]\n"
     ]
    },
    {
     "data": {
      "image/png": "[encoded data removed]",
      "text/plain": [
       "<Figure size 640x480 with 1 Axes>"
      ]
     },
     "metadata": {},
     "output_type": "display_data"
    },
    {
     "data": {
      "text/plain": [
       "<AxesSubplot:>"
      ]
     },
     "execution_count": 134,
     "metadata": {},
     "output_type": "execute_result"
    }
   ],
   "source": [
    "learned_M, _, _,_ = partition_seq_hastily(np_choices_s1, list(cggt.M.keys()))\n",
    "cg = Chunking_Graph(DT = 0, theta=1)\n",
    "cg = rational_chunking_all_info(np_choices_s1, cg) \n",
    "plot_chunk_graph(cg.vertex_list,cg.edge_list, cg.vertex_location, Print=True)"
   ]
  },
  {
   "cell_type": "code",
   "execution_count": null,
   "id": "b09bbbaf",
   "metadata": {},
   "outputs": [],
   "source": []
  },
  {
   "cell_type": "code",
   "execution_count": null,
   "id": "0fe25e62",
   "metadata": {},
   "outputs": [],
   "source": []
  }
 ],
 "metadata": {
  "kernelspec": {
   "display_name": "Python 3 (ipykernel)",
   "language": "python",
   "name": "python3"
  },
  "language_info": {
   "codemirror_mode": {
    "name": "ipython",
    "version": 3
   },
   "file_extension": ".py",
   "mimetype": "text/x-python",
   "name": "python",
   "nbconvert_exporter": "python",
   "pygments_lexer": "ipython3",
   "version": "3.10.8"
  },
  "toc": {
   "base_numbering": 1,
   "nav_menu": {},
   "number_sections": true,
   "sideBar": true,
   "skip_h1_title": false,
   "title_cell": "Table of Contents",
   "title_sidebar": "Contents",
   "toc_cell": true,
   "toc_position": {},
   "toc_section_display": true,
   "toc_window_display": false
  }
 },
 "nbformat": 4,
 "nbformat_minor": 5
}
