{
 "cells": [
  {
   "cell_type": "code",
   "execution_count": 16,
   "metadata": {},
   "outputs": [],
   "source": [
    "# first, test generative model on one dimensional graphs\n",
    "import sys\n",
    "sys.path.append('/Users/swu/Desktop/research/HCM/MouseHCM/HSTC')\n",
    "from main import *\n",
    "import seaborn as sns"
   ]
  },
  {
   "cell_type": "code",
   "execution_count": 2,
   "metadata": {},
   "outputs": [
    {
     "data": {
      "text/plain": [
       "<Figure size 720x720 with 0 Axes>"
      ]
     },
     "metadata": {},
     "output_type": "display_data"
    }
   ],
   "source": [
    "# demonstrate the graph structure as the number of observation increases\n",
    "import operator\n",
    "import networkx as nx\n",
    "import matplotlib.pyplot as plt\n",
    "import numpy as np\n",
    "from collections import defaultdict\n",
    "\n",
    "plt.figure(figsize = (10,10))\n",
    "\n",
    "def plot_chunk_graph(vertex_list, edges, location, ax=None, Print = False):\n",
    "    chunks = []\n",
    "    for ck in vertex_list:\n",
    "        chunks.append(list(np.ravel(tuple_to_arr(ck)).astype(int)))\n",
    "    if Print:\n",
    "        print('chunks ', chunks)\n",
    "        print('edges ', edges)\n",
    "        print('location ', location)\n",
    "    location[0] = [1,8]\n",
    "    element_palette = {0:'#FFFFFF', 1:'#FFCAB1', 2:'#C1D7AE', 3:'#B10FBD',4:'#6C809A'}  # colorblind palette\n",
    "    chunk_element_offset = {1: [0], 2: [-0.1, 0.1], 3: [-0.2, 0, 0.2], 4: [-0.3, -0.1, 0.1, 0.3],5:[-0.4, -0.2,0, 0.2, 0.4],6:[-0.6,-0.4, -0.2, 0, 0.2,0.4],7:[-0.6,-0.4, -0.2,0, 0.2, 0.4,0.6],8:[-0.8,-0.6,-0.4, -0.2,0,0.2, 0.4,0.6]}\n",
    "\n",
    "\n",
    "    chunk_element_distance = 0.9\n",
    "    if ax is None:\n",
    "        f, ax = plt.subplots()\n",
    "\n",
    "    chunks_by_length = defaultdict(list)\n",
    "    for chunk in chunks:\n",
    "        chunks_by_length[len(chunk)].append(chunk)\n",
    "    max_width = max(len(v) for v in chunks_by_length.values())\n",
    "\n",
    "    node_pos = {}\n",
    "    for i in range(0,len(chunks)):\n",
    "        chunk = chunks[i]\n",
    "        chunk_id = chunks.index(chunk)\n",
    "        chunk_len = len(chunks[chunk_id])\n",
    "        n_on_level = len(chunks_by_length[chunk_len])\n",
    "        id_on_level = chunks_by_length[chunk_len].index(chunk)\n",
    "        xpos = location[i][0]\n",
    "        ypos = location[i][1]\n",
    "        node_pos[chunk_id] = (xpos, ypos)\n",
    "\n",
    "    G = nx.MultiDiGraph()\n",
    "    for node in range(len(chunks)):\n",
    "        G.add_node(node, pos=node_pos[node])\n",
    "\n",
    "    for edge in edges:\n",
    "        G.add_edge(edge[0], edge[1], weight=0)\n",
    "\n",
    "    edge_color = ['k' if weight else 'grey' for weight in nx.get_edge_attributes(G,'weight').values()]\n",
    "\n",
    "    nx.draw_networkx(G, node_pos,\n",
    "                        node_color='grey',\n",
    "                        node_size=0.0001,\n",
    "                        #connectionstyle='arc3, rad = 0.1',\n",
    "                        arrowsize=15,\n",
    "                        width=3,\n",
    "                        with_labels=False,\n",
    "                        edge_color=edge_color,\n",
    "                        alpha = 0.3,\n",
    "                        ax=ax)\n",
    "\n",
    "    for chunk_id, chunk in enumerate(chunks):\n",
    "\n",
    "        for element_id, element in enumerate(chunk):\n",
    "            ax.scatter([node_pos[chunk_id][0] + (chunk_element_offset[len(chunk)][element_id] * chunk_element_distance)],\n",
    "                        [node_pos[chunk_id][1]],\n",
    "                        c=element_palette[element],\n",
    "                        edgecolors = 'lightgrey',\n",
    "                        linewidth=3,\n",
    "                        marker='s',\n",
    "                        s=600\n",
    "                        #zorder=5\n",
    "                        )\n",
    "    plt.axis(\"off\")\n",
    "    plt.show()\n",
    "\n",
    "    return ax"
   ]
  },
  {
   "cell_type": "markdown",
   "metadata": {},
   "source": [
    "# Generate a random chunking graph with specified depth $D$ and number of atomic units $n$"
   ]
  },
  {
   "cell_type": "code",
   "execution_count": 3,
   "metadata": {},
   "outputs": [
    {
     "name": "stdout",
     "output_type": "stream",
     "text": [
      "(((2.0,),), ((1.0,),)) (((2.0,),),) (((1.0,),),)\n",
      "(((2.0,),), ((1.0,),)) (((2.0,),),) (((1.0,),),)\n",
      "(((1.0,),), ((1.0,),)) (((1.0,),),) (((1.0,),),)\n",
      "(((3.0,),), ((3.0,),)) (((3.0,),),) (((3.0,),),)\n",
      "(((3.0,),), ((4.0,),)) (((3.0,),),) (((4.0,),),)\n",
      "(((4.0,),), ((4.0,),)) (((4.0,),),) (((4.0,),),)\n"
     ]
    },
    {
     "data": {
      "image/png": "[encoded data removed]",
      "text/plain": [
       "<Figure size 432x288 with 1 Axes>"
      ]
     },
     "metadata": {},
     "output_type": "display_data"
    },
    {
     "data": {
      "text/plain": [
       "<AxesSubplot:>"
      ]
     },
     "execution_count": 3,
     "metadata": {},
     "output_type": "execute_result"
    }
   ],
   "source": [
    "cggt = generative_model_random_combination(D=5, n=5)\n",
    "cggt = to_chunking_graph(cggt)\n",
    "plot_chunk_graph(cggt.vertex_list,cggt.edge_list, cggt.vertex_location)\n"
   ]
  },
  {
   "cell_type": "code",
   "execution_count": 4,
   "metadata": {},
   "outputs": [
    {
     "name": "stderr",
     "output_type": "stream",
     "text": [
      "/Users/swu/Desktop/research/HCM/MouseHCM/HSTC/Generative_Model.py:188: VisibleDeprecationWarning: Creating an ndarray from ragged nested sequences (which is a list-or-tuple of lists-or-tuples-or ndarrays with different lengths or shapes) is deprecated. If you meant to do this, you must specify 'dtype=object' when creating the ndarray.\n",
      "  new_sample = np.random.choice(list(marginals.keys()), p = list(marginals.values()))\n",
      "/Users/swu/Desktop/research/HCM/MouseHCM/HSTC/Generative_Model.py:199: VisibleDeprecationWarning: Creating an ndarray from ragged nested sequences (which is a list-or-tuple of lists-or-tuples-or ndarrays with different lengths or shapes) is deprecated. If you meant to do this, you must specify 'dtype=object' when creating the ndarray.\n",
      "  new_sample = np.random.choice(list(marginals.keys()), p = list(marginals.values()))\n"
     ]
    },
    {
     "data": {
      "image/png": "[encoded data removed]",
      "text/plain": [
       "<Figure size 432x288 with 1 Axes>"
      ]
     },
     "metadata": {},
     "output_type": "display_data"
    },
    {
     "data": {
      "text/plain": [
       "<AxesSubplot:>"
      ]
     },
     "execution_count": 4,
     "metadata": {},
     "output_type": "execute_result"
    }
   ],
   "source": [
    "n = 1000\n",
    "seq = generate_random_hierarchical_sequence(cggt.M,s_length = 5000)\n",
    "learned_M, _, _,_ = partition_seq_hastily(seq, list(cggt.M.keys()))\n",
    "cg = Chunking_Graph(DT = 0, theta=1)\n",
    "cg = rational_chunking_all_info(seq, cg) \n",
    "plot_chunk_graph(cg.vertex_list,cg.edge_list, cg.vertex_location)"
   ]
  },
  {
   "cell_type": "markdown",
   "metadata": {},
   "source": [
    "# Dynamical Hyerarchical Chunking Graph Building Demonstration "
   ]
  },
  {
   "cell_type": "code",
   "execution_count": 5,
   "metadata": {},
   "outputs": [
    {
     "data": {
      "image/png": "[encoded data removed]",
      "text/plain": [
       "<Figure size 432x288 with 1 Axes>"
      ]
     },
     "metadata": {},
     "output_type": "display_data"
    },
    {
     "data": {
      "text/plain": [
       "<AxesSubplot:>"
      ]
     },
     "execution_count": 5,
     "metadata": {},
     "output_type": "execute_result"
    }
   ],
   "source": [
    "vertex_list = [[0],[1],[2],[2,1],[1,2],[2,1,1],[1,2,2,1],[2,1,1,1,2,2,1]]\n",
    "edge_list = [(1,3),(2,3),(1,4),(2,4),(3,5),(1,5),(3,6),(4,6),(5,7),(6,7)]\n",
    "vertex_location = [[1,8],[2,8],[3,8],[2.5,7],[2.5,6],[2.15,5],[2.5,4],[2.325,3]]\n",
    "plot_chunk_graph(vertex_list[0:7],edge_list[0:8], vertex_location[0:7])\n",
    "\n"
   ]
  },
  {
   "cell_type": "code",
   "execution_count": 6,
   "metadata": {},
   "outputs": [
    {
     "data": {
      "image/png": "[encoded data removed]",
      "text/plain": [
       "<Figure size 432x288 with 1 Axes>"
      ]
     },
     "metadata": {},
     "output_type": "display_data"
    },
    {
     "data": {
      "text/plain": [
       "<AxesSubplot:>"
      ]
     },
     "execution_count": 6,
     "metadata": {},
     "output_type": "execute_result"
    }
   ],
   "source": [
    "plot_chunk_graph(vertex_list[0:3],[], vertex_location[0:3])"
   ]
  },
  {
   "cell_type": "code",
   "execution_count": 10,
   "metadata": {},
   "outputs": [],
   "source": [
    "cg_gt = hierarchy1d()\n",
    "SUM_probs = np.sum(list(cg_gt.M.values()))\n",
    "for item in list(cg_gt.M.keys()):\n",
    "    cg_gt.M[item] = cg_gt.M[item]/SUM_probs"
   ]
  },
  {
   "cell_type": "code",
   "execution_count": 12,
   "metadata": {},
   "outputs": [
    {
     "data": {
      "image/png": "[encoded data removed]",
      "text/plain": [
       "<Figure size 432x288 with 1 Axes>"
      ]
     },
     "metadata": {},
     "output_type": "display_data"
    },
    {
     "data": {
      "text/plain": [
       "<AxesSubplot:>"
      ]
     },
     "execution_count": 12,
     "metadata": {},
     "output_type": "execute_result"
    }
   ],
   "source": [
    "cg = Chunking_Graph(DT = 0, theta=1)# initialize chunking part with specified parameters\n",
    "\n",
    "seq = generate_hierarchical_sequence(cg_gt.M, s_length=10)\n",
    "cg = learn_stc_classes(seq, cg)\n",
    "plot_chunk_graph(cg.vertex_list,cg.edge_list, cg.vertex_location)"
   ]
  },
  {
   "cell_type": "code",
   "execution_count": 13,
   "metadata": {},
   "outputs": [
    {
     "data": {
      "image/png": "[encoded data removed]",
      "text/plain": [
       "<Figure size 432x288 with 1 Axes>"
      ]
     },
     "metadata": {},
     "output_type": "display_data"
    },
    {
     "data": {
      "text/plain": [
       "<AxesSubplot:>"
      ]
     },
     "execution_count": 13,
     "metadata": {},
     "output_type": "execute_result"
    }
   ],
   "source": [
    "seq = generate_hierarchical_sequence(cg_gt.M, s_length=20)\n",
    "cg = learn_stc_classes(seq, cg)\n",
    "plot_chunk_graph(cg.vertex_list,cg.edge_list, cg.vertex_location"
   ]
  },
  {
   "cell_type": "code",
   "execution_count": 15,
   "metadata": {},
   "outputs": [
    {
     "data": {
      "image/png": "[encoded data removed]",
      "text/plain": [
       "<Figure size 432x288 with 1 Axes>"
      ]
     },
     "metadata": {},
     "output_type": "display_data"
    },
    {
     "data": {
      "text/plain": [
       "<AxesSubplot:>"
      ]
     },
     "execution_count": 15,
     "metadata": {},
     "output_type": "execute_result"
    }
   ],
   "source": [
    "seq = generate_hierarchical_sequence(cg_gt.M, s_length=80)\n",
    "cg = learn_stc_classes(seq, cg)\n",
    "plot_chunk_graph(cg.vertex_list,cg.edge_list, cg.vertex_location)"
   ]
  },
  {
   "cell_type": "code",
   "execution_count": null,
   "metadata": {},
   "outputs": [],
   "source": []
  }
 ],
 "metadata": {
  "kernelspec": {
   "display_name": "Python 3",
   "language": "python",
   "name": "python3"
  },
  "language_info": {
   "codemirror_mode": {
    "name": "ipython",
    "version": 3
   },
   "file_extension": ".py",
   "mimetype": "text/x-python",
   "name": "python",
   "nbconvert_exporter": "python",
   "pygments_lexer": "ipython3",
   "version": "3.8.8"
  }
 },
 "nbformat": 4,
 "nbformat_minor": 4
}
